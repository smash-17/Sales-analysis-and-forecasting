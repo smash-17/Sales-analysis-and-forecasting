{
  "nbformat": 4,
  "nbformat_minor": 0,
  "metadata": {
    "colab": {
      "provenance": []
    },
    "kernelspec": {
      "name": "python3",
      "display_name": "Python 3"
    },
    "language_info": {
      "name": "python"
    },
    "accelerator": "GPU",
    "gpuClass": "standard"
  },
  "cells": [
    {
      "cell_type": "code",
      "execution_count": null,
      "metadata": {
        "id": "YtfKcRd_aKfR"
      },
      "outputs": [],
      "source": [
        "import numpy as np\n",
        "import pandas as pd\n",
        "import matplotlib.pyplot as plt\n",
        "import seaborn as sns\n",
        "from sklearn.preprocessing import LabelEncoder\n",
        "from sklearn.model_selection import train_test_split\n",
        "from xgboost import XGBRegressor\n",
        "from sklearn import metrics"
      ]
    },
    {
      "cell_type": "code",
      "source": [
        "from google.colab import drive\n",
        "drive.mount('/content/drive')"
      ],
      "metadata": {
        "colab": {
          "base_uri": "https://localhost:8080/"
        },
        "id": "CSfAgwwbs6jq",
        "outputId": "c0b89f7e-98a7-4c7c-850a-ec522962c105"
      },
      "execution_count": null,
      "outputs": [
        {
          "output_type": "stream",
          "name": "stdout",
          "text": [
            "Mounted at /content/drive\n"
          ]
        }
      ]
    },
    {
      "cell_type": "code",
      "source": [
        "# loading the data \n",
        "data = pd.read_csv('/content/drive/MyDrive/Train (1).csv')\n",
        "#checking the first 5 rows of the dataframe\n",
        "data.head()"
      ],
      "metadata": {
        "colab": {
          "base_uri": "https://localhost:8080/",
          "height": 337
        },
        "id": "Bmtf1TiRdrWF",
        "outputId": "e2f61365-5e3b-45f8-c57f-c82f7f587e17"
      },
      "execution_count": null,
      "outputs": [
        {
          "output_type": "execute_result",
          "data": {
            "text/plain": [
              "  Item_Identifier  Item_Weight Item_Fat_Content  Item_Visibility  \\\n",
              "0           FDA15         9.30          Low Fat         0.016047   \n",
              "1           DRC01         5.92          Regular         0.019278   \n",
              "2           FDN15        17.50          Low Fat         0.016760   \n",
              "3           FDX07        19.20          Regular         0.000000   \n",
              "4           NCD19         8.93          Low Fat         0.000000   \n",
              "\n",
              "               Item_Type  Item_MRP Outlet_Identifier  \\\n",
              "0                  Dairy  249.8092            OUT049   \n",
              "1            Soft Drinks   48.2692            OUT018   \n",
              "2                   Meat  141.6180            OUT049   \n",
              "3  Fruits and Vegetables  182.0950            OUT010   \n",
              "4              Household   53.8614            OUT013   \n",
              "\n",
              "   Outlet_Establishment_Year Outlet_Size Outlet_Location_Type  \\\n",
              "0                       1999      Medium               Tier 1   \n",
              "1                       2009      Medium               Tier 3   \n",
              "2                       1999      Medium               Tier 1   \n",
              "3                       1998         NaN               Tier 3   \n",
              "4                       1987        High               Tier 3   \n",
              "\n",
              "         Outlet_Type  Item_Outlet_Sales  \n",
              "0  Supermarket Type1          3735.1380  \n",
              "1  Supermarket Type2           443.4228  \n",
              "2  Supermarket Type1          2097.2700  \n",
              "3      Grocery Store           732.3800  \n",
              "4  Supermarket Type1           994.7052  "
            ],
            "text/html": [
              "\n",
              "  <div id=\"df-7e2cf730-575f-4ade-b83a-fc28b1a14214\">\n",
              "    <div class=\"colab-df-container\">\n",
              "      <div>\n",
              "<style scoped>\n",
              "    .dataframe tbody tr th:only-of-type {\n",
              "        vertical-align: middle;\n",
              "    }\n",
              "\n",
              "    .dataframe tbody tr th {\n",
              "        vertical-align: top;\n",
              "    }\n",
              "\n",
              "    .dataframe thead th {\n",
              "        text-align: right;\n",
              "    }\n",
              "</style>\n",
              "<table border=\"1\" class=\"dataframe\">\n",
              "  <thead>\n",
              "    <tr style=\"text-align: right;\">\n",
              "      <th></th>\n",
              "      <th>Item_Identifier</th>\n",
              "      <th>Item_Weight</th>\n",
              "      <th>Item_Fat_Content</th>\n",
              "      <th>Item_Visibility</th>\n",
              "      <th>Item_Type</th>\n",
              "      <th>Item_MRP</th>\n",
              "      <th>Outlet_Identifier</th>\n",
              "      <th>Outlet_Establishment_Year</th>\n",
              "      <th>Outlet_Size</th>\n",
              "      <th>Outlet_Location_Type</th>\n",
              "      <th>Outlet_Type</th>\n",
              "      <th>Item_Outlet_Sales</th>\n",
              "    </tr>\n",
              "  </thead>\n",
              "  <tbody>\n",
              "    <tr>\n",
              "      <th>0</th>\n",
              "      <td>FDA15</td>\n",
              "      <td>9.30</td>\n",
              "      <td>Low Fat</td>\n",
              "      <td>0.016047</td>\n",
              "      <td>Dairy</td>\n",
              "      <td>249.8092</td>\n",
              "      <td>OUT049</td>\n",
              "      <td>1999</td>\n",
              "      <td>Medium</td>\n",
              "      <td>Tier 1</td>\n",
              "      <td>Supermarket Type1</td>\n",
              "      <td>3735.1380</td>\n",
              "    </tr>\n",
              "    <tr>\n",
              "      <th>1</th>\n",
              "      <td>DRC01</td>\n",
              "      <td>5.92</td>\n",
              "      <td>Regular</td>\n",
              "      <td>0.019278</td>\n",
              "      <td>Soft Drinks</td>\n",
              "      <td>48.2692</td>\n",
              "      <td>OUT018</td>\n",
              "      <td>2009</td>\n",
              "      <td>Medium</td>\n",
              "      <td>Tier 3</td>\n",
              "      <td>Supermarket Type2</td>\n",
              "      <td>443.4228</td>\n",
              "    </tr>\n",
              "    <tr>\n",
              "      <th>2</th>\n",
              "      <td>FDN15</td>\n",
              "      <td>17.50</td>\n",
              "      <td>Low Fat</td>\n",
              "      <td>0.016760</td>\n",
              "      <td>Meat</td>\n",
              "      <td>141.6180</td>\n",
              "      <td>OUT049</td>\n",
              "      <td>1999</td>\n",
              "      <td>Medium</td>\n",
              "      <td>Tier 1</td>\n",
              "      <td>Supermarket Type1</td>\n",
              "      <td>2097.2700</td>\n",
              "    </tr>\n",
              "    <tr>\n",
              "      <th>3</th>\n",
              "      <td>FDX07</td>\n",
              "      <td>19.20</td>\n",
              "      <td>Regular</td>\n",
              "      <td>0.000000</td>\n",
              "      <td>Fruits and Vegetables</td>\n",
              "      <td>182.0950</td>\n",
              "      <td>OUT010</td>\n",
              "      <td>1998</td>\n",
              "      <td>NaN</td>\n",
              "      <td>Tier 3</td>\n",
              "      <td>Grocery Store</td>\n",
              "      <td>732.3800</td>\n",
              "    </tr>\n",
              "    <tr>\n",
              "      <th>4</th>\n",
              "      <td>NCD19</td>\n",
              "      <td>8.93</td>\n",
              "      <td>Low Fat</td>\n",
              "      <td>0.000000</td>\n",
              "      <td>Household</td>\n",
              "      <td>53.8614</td>\n",
              "      <td>OUT013</td>\n",
              "      <td>1987</td>\n",
              "      <td>High</td>\n",
              "      <td>Tier 3</td>\n",
              "      <td>Supermarket Type1</td>\n",
              "      <td>994.7052</td>\n",
              "    </tr>\n",
              "  </tbody>\n",
              "</table>\n",
              "</div>\n",
              "      <button class=\"colab-df-convert\" onclick=\"convertToInteractive('df-7e2cf730-575f-4ade-b83a-fc28b1a14214')\"\n",
              "              title=\"Convert this dataframe to an interactive table.\"\n",
              "              style=\"display:none;\">\n",
              "        \n",
              "  <svg xmlns=\"http://www.w3.org/2000/svg\" height=\"24px\"viewBox=\"0 0 24 24\"\n",
              "       width=\"24px\">\n",
              "    <path d=\"M0 0h24v24H0V0z\" fill=\"none\"/>\n",
              "    <path d=\"M18.56 5.44l.94 2.06.94-2.06 2.06-.94-2.06-.94-.94-2.06-.94 2.06-2.06.94zm-11 1L8.5 8.5l.94-2.06 2.06-.94-2.06-.94L8.5 2.5l-.94 2.06-2.06.94zm10 10l.94 2.06.94-2.06 2.06-.94-2.06-.94-.94-2.06-.94 2.06-2.06.94z\"/><path d=\"M17.41 7.96l-1.37-1.37c-.4-.4-.92-.59-1.43-.59-.52 0-1.04.2-1.43.59L10.3 9.45l-7.72 7.72c-.78.78-.78 2.05 0 2.83L4 21.41c.39.39.9.59 1.41.59.51 0 1.02-.2 1.41-.59l7.78-7.78 2.81-2.81c.8-.78.8-2.07 0-2.86zM5.41 20L4 18.59l7.72-7.72 1.47 1.35L5.41 20z\"/>\n",
              "  </svg>\n",
              "      </button>\n",
              "      \n",
              "  <style>\n",
              "    .colab-df-container {\n",
              "      display:flex;\n",
              "      flex-wrap:wrap;\n",
              "      gap: 12px;\n",
              "    }\n",
              "\n",
              "    .colab-df-convert {\n",
              "      background-color: #E8F0FE;\n",
              "      border: none;\n",
              "      border-radius: 50%;\n",
              "      cursor: pointer;\n",
              "      display: none;\n",
              "      fill: #1967D2;\n",
              "      height: 32px;\n",
              "      padding: 0 0 0 0;\n",
              "      width: 32px;\n",
              "    }\n",
              "\n",
              "    .colab-df-convert:hover {\n",
              "      background-color: #E2EBFA;\n",
              "      box-shadow: 0px 1px 2px rgba(60, 64, 67, 0.3), 0px 1px 3px 1px rgba(60, 64, 67, 0.15);\n",
              "      fill: #174EA6;\n",
              "    }\n",
              "\n",
              "    [theme=dark] .colab-df-convert {\n",
              "      background-color: #3B4455;\n",
              "      fill: #D2E3FC;\n",
              "    }\n",
              "\n",
              "    [theme=dark] .colab-df-convert:hover {\n",
              "      background-color: #434B5C;\n",
              "      box-shadow: 0px 1px 3px 1px rgba(0, 0, 0, 0.15);\n",
              "      filter: drop-shadow(0px 1px 2px rgba(0, 0, 0, 0.3));\n",
              "      fill: #FFFFFF;\n",
              "    }\n",
              "  </style>\n",
              "\n",
              "      <script>\n",
              "        const buttonEl =\n",
              "          document.querySelector('#df-7e2cf730-575f-4ade-b83a-fc28b1a14214 button.colab-df-convert');\n",
              "        buttonEl.style.display =\n",
              "          google.colab.kernel.accessAllowed ? 'block' : 'none';\n",
              "\n",
              "        async function convertToInteractive(key) {\n",
              "          const element = document.querySelector('#df-7e2cf730-575f-4ade-b83a-fc28b1a14214');\n",
              "          const dataTable =\n",
              "            await google.colab.kernel.invokeFunction('convertToInteractive',\n",
              "                                                     [key], {});\n",
              "          if (!dataTable) return;\n",
              "\n",
              "          const docLinkHtml = 'Like what you see? Visit the ' +\n",
              "            '<a target=\"_blank\" href=https://colab.research.google.com/notebooks/data_table.ipynb>data table notebook</a>'\n",
              "            + ' to learn more about interactive tables.';\n",
              "          element.innerHTML = '';\n",
              "          dataTable['output_type'] = 'display_data';\n",
              "          await google.colab.output.renderOutput(dataTable, element);\n",
              "          const docLink = document.createElement('div');\n",
              "          docLink.innerHTML = docLinkHtml;\n",
              "          element.appendChild(docLink);\n",
              "        }\n",
              "      </script>\n",
              "    </div>\n",
              "  </div>\n",
              "  "
            ]
          },
          "metadata": {},
          "execution_count": 3
        }
      ]
    },
    {
      "cell_type": "code",
      "source": [
        "data.shape"
      ],
      "metadata": {
        "colab": {
          "base_uri": "https://localhost:8080/"
        },
        "id": "be_Edq6oeZAn",
        "outputId": "cf629729-32c8-4caf-e073-3913576ab2c8"
      },
      "execution_count": null,
      "outputs": [
        {
          "output_type": "execute_result",
          "data": {
            "text/plain": [
              "(8523, 12)"
            ]
          },
          "metadata": {},
          "execution_count": 4
        }
      ]
    },
    {
      "cell_type": "code",
      "source": [
        "# getting some information about the dataset\n",
        "data.info()"
      ],
      "metadata": {
        "colab": {
          "base_uri": "https://localhost:8080/"
        },
        "id": "lpvf85PIecUO",
        "outputId": "197643f1-c07d-4bb7-a490-36b06a38d202"
      },
      "execution_count": null,
      "outputs": [
        {
          "output_type": "stream",
          "name": "stdout",
          "text": [
            "<class 'pandas.core.frame.DataFrame'>\n",
            "RangeIndex: 8523 entries, 0 to 8522\n",
            "Data columns (total 12 columns):\n",
            " #   Column                     Non-Null Count  Dtype  \n",
            "---  ------                     --------------  -----  \n",
            " 0   Item_Identifier            8523 non-null   object \n",
            " 1   Item_Weight                7060 non-null   float64\n",
            " 2   Item_Fat_Content           8523 non-null   object \n",
            " 3   Item_Visibility            8523 non-null   float64\n",
            " 4   Item_Type                  8523 non-null   object \n",
            " 5   Item_MRP                   8523 non-null   float64\n",
            " 6   Outlet_Identifier          8523 non-null   object \n",
            " 7   Outlet_Establishment_Year  8523 non-null   int64  \n",
            " 8   Outlet_Size                6113 non-null   object \n",
            " 9   Outlet_Location_Type       8523 non-null   object \n",
            " 10  Outlet_Type                8523 non-null   object \n",
            " 11  Item_Outlet_Sales          8523 non-null   float64\n",
            "dtypes: float64(4), int64(1), object(7)\n",
            "memory usage: 799.2+ KB\n"
          ]
        }
      ]
    },
    {
      "cell_type": "code",
      "source": [
        "data.isnull().sum()"
      ],
      "metadata": {
        "colab": {
          "base_uri": "https://localhost:8080/"
        },
        "id": "5wYZe7MIee33",
        "outputId": "445f572b-dbea-4196-c286-70b56f0bed3e"
      },
      "execution_count": null,
      "outputs": [
        {
          "output_type": "execute_result",
          "data": {
            "text/plain": [
              "Item_Identifier                 0\n",
              "Item_Weight                  1463\n",
              "Item_Fat_Content                0\n",
              "Item_Visibility                 0\n",
              "Item_Type                       0\n",
              "Item_MRP                        0\n",
              "Outlet_Identifier               0\n",
              "Outlet_Establishment_Year       0\n",
              "Outlet_Size                  2410\n",
              "Outlet_Location_Type            0\n",
              "Outlet_Type                     0\n",
              "Item_Outlet_Sales               0\n",
              "dtype: int64"
            ]
          },
          "metadata": {},
          "execution_count": 6
        }
      ]
    },
    {
      "cell_type": "code",
      "source": [
        "data['Item_Weight'].mean()"
      ],
      "metadata": {
        "colab": {
          "base_uri": "https://localhost:8080/"
        },
        "id": "YPPWQy2yeiHu",
        "outputId": "591d172c-2f15-49aa-d37a-c216b3c09965"
      },
      "execution_count": null,
      "outputs": [
        {
          "output_type": "execute_result",
          "data": {
            "text/plain": [
              "12.857645184135976"
            ]
          },
          "metadata": {},
          "execution_count": 7
        }
      ]
    },
    {
      "cell_type": "code",
      "source": [
        "data['Item_Weight'].fillna(data['Item_Weight'].mean(), inplace=True)"
      ],
      "metadata": {
        "id": "WnnbvbjceoEZ"
      },
      "execution_count": null,
      "outputs": []
    },
    {
      "cell_type": "code",
      "source": [
        "data['Outlet_Size'].mode()"
      ],
      "metadata": {
        "colab": {
          "base_uri": "https://localhost:8080/"
        },
        "id": "Lu50V4eWeqBh",
        "outputId": "7a9b9484-ac56-4843-d158-751603ffa390"
      },
      "execution_count": null,
      "outputs": [
        {
          "output_type": "execute_result",
          "data": {
            "text/plain": [
              "0    Medium\n",
              "Name: Outlet_Size, dtype: object"
            ]
          },
          "metadata": {},
          "execution_count": 9
        }
      ]
    },
    {
      "cell_type": "code",
      "source": [
        "mode_of_Outlet_size = data.pivot_table(values='Outlet_Size', columns='Outlet_Type', aggfunc=(lambda x: x.mode()[0]))"
      ],
      "metadata": {
        "id": "x7LzalO8e82q"
      },
      "execution_count": null,
      "outputs": []
    },
    {
      "cell_type": "code",
      "source": [
        "miss_values = data['Outlet_Size'].isnull()"
      ],
      "metadata": {
        "id": "b41Ns0a4espK"
      },
      "execution_count": null,
      "outputs": []
    },
    {
      "cell_type": "code",
      "source": [
        "data.loc[miss_values, 'Outlet_Size'] = data.loc[miss_values,'Outlet_Type'].apply(lambda x: mode_of_Outlet_size[x])"
      ],
      "metadata": {
        "id": "voFEVMQ-ewBr"
      },
      "execution_count": null,
      "outputs": []
    },
    {
      "cell_type": "code",
      "source": [
        "data.isnull().sum()"
      ],
      "metadata": {
        "colab": {
          "base_uri": "https://localhost:8080/"
        },
        "id": "wgXrVIUHeyrq",
        "outputId": "426eb9e3-0144-4795-822b-efe5e3903460"
      },
      "execution_count": null,
      "outputs": [
        {
          "output_type": "execute_result",
          "data": {
            "text/plain": [
              "Item_Identifier              0\n",
              "Item_Weight                  0\n",
              "Item_Fat_Content             0\n",
              "Item_Visibility              0\n",
              "Item_Type                    0\n",
              "Item_MRP                     0\n",
              "Outlet_Identifier            0\n",
              "Outlet_Establishment_Year    0\n",
              "Outlet_Size                  0\n",
              "Outlet_Location_Type         0\n",
              "Outlet_Type                  0\n",
              "Item_Outlet_Sales            0\n",
              "dtype: int64"
            ]
          },
          "metadata": {},
          "execution_count": 13
        }
      ]
    },
    {
      "cell_type": "code",
      "source": [
        "data.head()"
      ],
      "metadata": {
        "colab": {
          "base_uri": "https://localhost:8080/",
          "height": 337
        },
        "id": "Z5ODabtyfEWM",
        "outputId": "475ba650-5906-4711-905f-ec960404a34c"
      },
      "execution_count": null,
      "outputs": [
        {
          "output_type": "execute_result",
          "data": {
            "text/plain": [
              "  Item_Identifier  Item_Weight Item_Fat_Content  Item_Visibility  \\\n",
              "0           FDA15         9.30          Low Fat         0.016047   \n",
              "1           DRC01         5.92          Regular         0.019278   \n",
              "2           FDN15        17.50          Low Fat         0.016760   \n",
              "3           FDX07        19.20          Regular         0.000000   \n",
              "4           NCD19         8.93          Low Fat         0.000000   \n",
              "\n",
              "               Item_Type  Item_MRP Outlet_Identifier  \\\n",
              "0                  Dairy  249.8092            OUT049   \n",
              "1            Soft Drinks   48.2692            OUT018   \n",
              "2                   Meat  141.6180            OUT049   \n",
              "3  Fruits and Vegetables  182.0950            OUT010   \n",
              "4              Household   53.8614            OUT013   \n",
              "\n",
              "   Outlet_Establishment_Year Outlet_Size Outlet_Location_Type  \\\n",
              "0                       1999      Medium               Tier 1   \n",
              "1                       2009      Medium               Tier 3   \n",
              "2                       1999      Medium               Tier 1   \n",
              "3                       1998       Small               Tier 3   \n",
              "4                       1987        High               Tier 3   \n",
              "\n",
              "         Outlet_Type  Item_Outlet_Sales  \n",
              "0  Supermarket Type1          3735.1380  \n",
              "1  Supermarket Type2           443.4228  \n",
              "2  Supermarket Type1          2097.2700  \n",
              "3      Grocery Store           732.3800  \n",
              "4  Supermarket Type1           994.7052  "
            ],
            "text/html": [
              "\n",
              "  <div id=\"df-ebc48a9b-8dfd-4319-a0f6-a48b8a1bf35d\">\n",
              "    <div class=\"colab-df-container\">\n",
              "      <div>\n",
              "<style scoped>\n",
              "    .dataframe tbody tr th:only-of-type {\n",
              "        vertical-align: middle;\n",
              "    }\n",
              "\n",
              "    .dataframe tbody tr th {\n",
              "        vertical-align: top;\n",
              "    }\n",
              "\n",
              "    .dataframe thead th {\n",
              "        text-align: right;\n",
              "    }\n",
              "</style>\n",
              "<table border=\"1\" class=\"dataframe\">\n",
              "  <thead>\n",
              "    <tr style=\"text-align: right;\">\n",
              "      <th></th>\n",
              "      <th>Item_Identifier</th>\n",
              "      <th>Item_Weight</th>\n",
              "      <th>Item_Fat_Content</th>\n",
              "      <th>Item_Visibility</th>\n",
              "      <th>Item_Type</th>\n",
              "      <th>Item_MRP</th>\n",
              "      <th>Outlet_Identifier</th>\n",
              "      <th>Outlet_Establishment_Year</th>\n",
              "      <th>Outlet_Size</th>\n",
              "      <th>Outlet_Location_Type</th>\n",
              "      <th>Outlet_Type</th>\n",
              "      <th>Item_Outlet_Sales</th>\n",
              "    </tr>\n",
              "  </thead>\n",
              "  <tbody>\n",
              "    <tr>\n",
              "      <th>0</th>\n",
              "      <td>FDA15</td>\n",
              "      <td>9.30</td>\n",
              "      <td>Low Fat</td>\n",
              "      <td>0.016047</td>\n",
              "      <td>Dairy</td>\n",
              "      <td>249.8092</td>\n",
              "      <td>OUT049</td>\n",
              "      <td>1999</td>\n",
              "      <td>Medium</td>\n",
              "      <td>Tier 1</td>\n",
              "      <td>Supermarket Type1</td>\n",
              "      <td>3735.1380</td>\n",
              "    </tr>\n",
              "    <tr>\n",
              "      <th>1</th>\n",
              "      <td>DRC01</td>\n",
              "      <td>5.92</td>\n",
              "      <td>Regular</td>\n",
              "      <td>0.019278</td>\n",
              "      <td>Soft Drinks</td>\n",
              "      <td>48.2692</td>\n",
              "      <td>OUT018</td>\n",
              "      <td>2009</td>\n",
              "      <td>Medium</td>\n",
              "      <td>Tier 3</td>\n",
              "      <td>Supermarket Type2</td>\n",
              "      <td>443.4228</td>\n",
              "    </tr>\n",
              "    <tr>\n",
              "      <th>2</th>\n",
              "      <td>FDN15</td>\n",
              "      <td>17.50</td>\n",
              "      <td>Low Fat</td>\n",
              "      <td>0.016760</td>\n",
              "      <td>Meat</td>\n",
              "      <td>141.6180</td>\n",
              "      <td>OUT049</td>\n",
              "      <td>1999</td>\n",
              "      <td>Medium</td>\n",
              "      <td>Tier 1</td>\n",
              "      <td>Supermarket Type1</td>\n",
              "      <td>2097.2700</td>\n",
              "    </tr>\n",
              "    <tr>\n",
              "      <th>3</th>\n",
              "      <td>FDX07</td>\n",
              "      <td>19.20</td>\n",
              "      <td>Regular</td>\n",
              "      <td>0.000000</td>\n",
              "      <td>Fruits and Vegetables</td>\n",
              "      <td>182.0950</td>\n",
              "      <td>OUT010</td>\n",
              "      <td>1998</td>\n",
              "      <td>Small</td>\n",
              "      <td>Tier 3</td>\n",
              "      <td>Grocery Store</td>\n",
              "      <td>732.3800</td>\n",
              "    </tr>\n",
              "    <tr>\n",
              "      <th>4</th>\n",
              "      <td>NCD19</td>\n",
              "      <td>8.93</td>\n",
              "      <td>Low Fat</td>\n",
              "      <td>0.000000</td>\n",
              "      <td>Household</td>\n",
              "      <td>53.8614</td>\n",
              "      <td>OUT013</td>\n",
              "      <td>1987</td>\n",
              "      <td>High</td>\n",
              "      <td>Tier 3</td>\n",
              "      <td>Supermarket Type1</td>\n",
              "      <td>994.7052</td>\n",
              "    </tr>\n",
              "  </tbody>\n",
              "</table>\n",
              "</div>\n",
              "      <button class=\"colab-df-convert\" onclick=\"convertToInteractive('df-ebc48a9b-8dfd-4319-a0f6-a48b8a1bf35d')\"\n",
              "              title=\"Convert this dataframe to an interactive table.\"\n",
              "              style=\"display:none;\">\n",
              "        \n",
              "  <svg xmlns=\"http://www.w3.org/2000/svg\" height=\"24px\"viewBox=\"0 0 24 24\"\n",
              "       width=\"24px\">\n",
              "    <path d=\"M0 0h24v24H0V0z\" fill=\"none\"/>\n",
              "    <path d=\"M18.56 5.44l.94 2.06.94-2.06 2.06-.94-2.06-.94-.94-2.06-.94 2.06-2.06.94zm-11 1L8.5 8.5l.94-2.06 2.06-.94-2.06-.94L8.5 2.5l-.94 2.06-2.06.94zm10 10l.94 2.06.94-2.06 2.06-.94-2.06-.94-.94-2.06-.94 2.06-2.06.94z\"/><path d=\"M17.41 7.96l-1.37-1.37c-.4-.4-.92-.59-1.43-.59-.52 0-1.04.2-1.43.59L10.3 9.45l-7.72 7.72c-.78.78-.78 2.05 0 2.83L4 21.41c.39.39.9.59 1.41.59.51 0 1.02-.2 1.41-.59l7.78-7.78 2.81-2.81c.8-.78.8-2.07 0-2.86zM5.41 20L4 18.59l7.72-7.72 1.47 1.35L5.41 20z\"/>\n",
              "  </svg>\n",
              "      </button>\n",
              "      \n",
              "  <style>\n",
              "    .colab-df-container {\n",
              "      display:flex;\n",
              "      flex-wrap:wrap;\n",
              "      gap: 12px;\n",
              "    }\n",
              "\n",
              "    .colab-df-convert {\n",
              "      background-color: #E8F0FE;\n",
              "      border: none;\n",
              "      border-radius: 50%;\n",
              "      cursor: pointer;\n",
              "      display: none;\n",
              "      fill: #1967D2;\n",
              "      height: 32px;\n",
              "      padding: 0 0 0 0;\n",
              "      width: 32px;\n",
              "    }\n",
              "\n",
              "    .colab-df-convert:hover {\n",
              "      background-color: #E2EBFA;\n",
              "      box-shadow: 0px 1px 2px rgba(60, 64, 67, 0.3), 0px 1px 3px 1px rgba(60, 64, 67, 0.15);\n",
              "      fill: #174EA6;\n",
              "    }\n",
              "\n",
              "    [theme=dark] .colab-df-convert {\n",
              "      background-color: #3B4455;\n",
              "      fill: #D2E3FC;\n",
              "    }\n",
              "\n",
              "    [theme=dark] .colab-df-convert:hover {\n",
              "      background-color: #434B5C;\n",
              "      box-shadow: 0px 1px 3px 1px rgba(0, 0, 0, 0.15);\n",
              "      filter: drop-shadow(0px 1px 2px rgba(0, 0, 0, 0.3));\n",
              "      fill: #FFFFFF;\n",
              "    }\n",
              "  </style>\n",
              "\n",
              "      <script>\n",
              "        const buttonEl =\n",
              "          document.querySelector('#df-ebc48a9b-8dfd-4319-a0f6-a48b8a1bf35d button.colab-df-convert');\n",
              "        buttonEl.style.display =\n",
              "          google.colab.kernel.accessAllowed ? 'block' : 'none';\n",
              "\n",
              "        async function convertToInteractive(key) {\n",
              "          const element = document.querySelector('#df-ebc48a9b-8dfd-4319-a0f6-a48b8a1bf35d');\n",
              "          const dataTable =\n",
              "            await google.colab.kernel.invokeFunction('convertToInteractive',\n",
              "                                                     [key], {});\n",
              "          if (!dataTable) return;\n",
              "\n",
              "          const docLinkHtml = 'Like what you see? Visit the ' +\n",
              "            '<a target=\"_blank\" href=https://colab.research.google.com/notebooks/data_table.ipynb>data table notebook</a>'\n",
              "            + ' to learn more about interactive tables.';\n",
              "          element.innerHTML = '';\n",
              "          dataTable['output_type'] = 'display_data';\n",
              "          await google.colab.output.renderOutput(dataTable, element);\n",
              "          const docLink = document.createElement('div');\n",
              "          docLink.innerHTML = docLinkHtml;\n",
              "          element.appendChild(docLink);\n",
              "        }\n",
              "      </script>\n",
              "    </div>\n",
              "  </div>\n",
              "  "
            ]
          },
          "metadata": {},
          "execution_count": 14
        }
      ]
    },
    {
      "cell_type": "code",
      "source": [
        "data['Item_Fat_Content'].value_counts()"
      ],
      "metadata": {
        "colab": {
          "base_uri": "https://localhost:8080/"
        },
        "id": "J-v1jSKSfOaU",
        "outputId": "91882050-992a-4190-8e28-52f4e37a0a76"
      },
      "execution_count": null,
      "outputs": [
        {
          "output_type": "execute_result",
          "data": {
            "text/plain": [
              "Low Fat    5089\n",
              "Regular    2889\n",
              "LF          316\n",
              "reg         117\n",
              "low fat     112\n",
              "Name: Item_Fat_Content, dtype: int64"
            ]
          },
          "metadata": {},
          "execution_count": 15
        }
      ]
    },
    {
      "cell_type": "code",
      "source": [
        "encoder = LabelEncoder()"
      ],
      "metadata": {
        "id": "S6C0nrTRfSBY"
      },
      "execution_count": null,
      "outputs": []
    },
    {
      "cell_type": "code",
      "source": [
        "data['Item_Identifier'] = encoder.fit_transform(data['Item_Identifier'])\n",
        "\n",
        "data['Item_Fat_Content'] = encoder.fit_transform(data['Item_Fat_Content'])\n",
        "\n",
        "data['Item_Type'] = encoder.fit_transform(data['Item_Type'])\n",
        "\n",
        "data['Outlet_Identifier'] = encoder.fit_transform(data['Outlet_Identifier'])\n",
        "\n",
        "data['Outlet_Size'] = encoder.fit_transform(data['Outlet_Size'])\n",
        "\n",
        "data['Outlet_Location_Type'] = encoder.fit_transform(data['Outlet_Location_Type'])\n",
        "\n",
        "data['Outlet_Type'] = encoder.fit_transform(data['Outlet_Type'])"
      ],
      "metadata": {
        "id": "jQzEzTSLfWxu"
      },
      "execution_count": null,
      "outputs": []
    },
    {
      "cell_type": "code",
      "source": [
        "data.head()"
      ],
      "metadata": {
        "colab": {
          "base_uri": "https://localhost:8080/",
          "height": 206
        },
        "id": "WAxap_UafZjn",
        "outputId": "2446f89c-31fb-4e63-fd34-9a9ed4af76b6"
      },
      "execution_count": null,
      "outputs": [
        {
          "output_type": "execute_result",
          "data": {
            "text/plain": [
              "   Item_Identifier  Item_Weight  Item_Fat_Content  Item_Visibility  Item_Type  \\\n",
              "0              156         9.30                 1         0.016047          4   \n",
              "1                8         5.92                 2         0.019278         14   \n",
              "2              662        17.50                 1         0.016760         10   \n",
              "3             1121        19.20                 2         0.000000          6   \n",
              "4             1297         8.93                 1         0.000000          9   \n",
              "\n",
              "   Item_MRP  Outlet_Identifier  Outlet_Establishment_Year  Outlet_Size  \\\n",
              "0  249.8092                  9                       1999            1   \n",
              "1   48.2692                  3                       2009            1   \n",
              "2  141.6180                  9                       1999            1   \n",
              "3  182.0950                  0                       1998            2   \n",
              "4   53.8614                  1                       1987            0   \n",
              "\n",
              "   Outlet_Location_Type  Outlet_Type  Item_Outlet_Sales  \n",
              "0                     0            1          3735.1380  \n",
              "1                     2            2           443.4228  \n",
              "2                     0            1          2097.2700  \n",
              "3                     2            0           732.3800  \n",
              "4                     2            1           994.7052  "
            ],
            "text/html": [
              "\n",
              "  <div id=\"df-77614035-d1ff-4ccb-9730-06e890ecf00f\">\n",
              "    <div class=\"colab-df-container\">\n",
              "      <div>\n",
              "<style scoped>\n",
              "    .dataframe tbody tr th:only-of-type {\n",
              "        vertical-align: middle;\n",
              "    }\n",
              "\n",
              "    .dataframe tbody tr th {\n",
              "        vertical-align: top;\n",
              "    }\n",
              "\n",
              "    .dataframe thead th {\n",
              "        text-align: right;\n",
              "    }\n",
              "</style>\n",
              "<table border=\"1\" class=\"dataframe\">\n",
              "  <thead>\n",
              "    <tr style=\"text-align: right;\">\n",
              "      <th></th>\n",
              "      <th>Item_Identifier</th>\n",
              "      <th>Item_Weight</th>\n",
              "      <th>Item_Fat_Content</th>\n",
              "      <th>Item_Visibility</th>\n",
              "      <th>Item_Type</th>\n",
              "      <th>Item_MRP</th>\n",
              "      <th>Outlet_Identifier</th>\n",
              "      <th>Outlet_Establishment_Year</th>\n",
              "      <th>Outlet_Size</th>\n",
              "      <th>Outlet_Location_Type</th>\n",
              "      <th>Outlet_Type</th>\n",
              "      <th>Item_Outlet_Sales</th>\n",
              "    </tr>\n",
              "  </thead>\n",
              "  <tbody>\n",
              "    <tr>\n",
              "      <th>0</th>\n",
              "      <td>156</td>\n",
              "      <td>9.30</td>\n",
              "      <td>1</td>\n",
              "      <td>0.016047</td>\n",
              "      <td>4</td>\n",
              "      <td>249.8092</td>\n",
              "      <td>9</td>\n",
              "      <td>1999</td>\n",
              "      <td>1</td>\n",
              "      <td>0</td>\n",
              "      <td>1</td>\n",
              "      <td>3735.1380</td>\n",
              "    </tr>\n",
              "    <tr>\n",
              "      <th>1</th>\n",
              "      <td>8</td>\n",
              "      <td>5.92</td>\n",
              "      <td>2</td>\n",
              "      <td>0.019278</td>\n",
              "      <td>14</td>\n",
              "      <td>48.2692</td>\n",
              "      <td>3</td>\n",
              "      <td>2009</td>\n",
              "      <td>1</td>\n",
              "      <td>2</td>\n",
              "      <td>2</td>\n",
              "      <td>443.4228</td>\n",
              "    </tr>\n",
              "    <tr>\n",
              "      <th>2</th>\n",
              "      <td>662</td>\n",
              "      <td>17.50</td>\n",
              "      <td>1</td>\n",
              "      <td>0.016760</td>\n",
              "      <td>10</td>\n",
              "      <td>141.6180</td>\n",
              "      <td>9</td>\n",
              "      <td>1999</td>\n",
              "      <td>1</td>\n",
              "      <td>0</td>\n",
              "      <td>1</td>\n",
              "      <td>2097.2700</td>\n",
              "    </tr>\n",
              "    <tr>\n",
              "      <th>3</th>\n",
              "      <td>1121</td>\n",
              "      <td>19.20</td>\n",
              "      <td>2</td>\n",
              "      <td>0.000000</td>\n",
              "      <td>6</td>\n",
              "      <td>182.0950</td>\n",
              "      <td>0</td>\n",
              "      <td>1998</td>\n",
              "      <td>2</td>\n",
              "      <td>2</td>\n",
              "      <td>0</td>\n",
              "      <td>732.3800</td>\n",
              "    </tr>\n",
              "    <tr>\n",
              "      <th>4</th>\n",
              "      <td>1297</td>\n",
              "      <td>8.93</td>\n",
              "      <td>1</td>\n",
              "      <td>0.000000</td>\n",
              "      <td>9</td>\n",
              "      <td>53.8614</td>\n",
              "      <td>1</td>\n",
              "      <td>1987</td>\n",
              "      <td>0</td>\n",
              "      <td>2</td>\n",
              "      <td>1</td>\n",
              "      <td>994.7052</td>\n",
              "    </tr>\n",
              "  </tbody>\n",
              "</table>\n",
              "</div>\n",
              "      <button class=\"colab-df-convert\" onclick=\"convertToInteractive('df-77614035-d1ff-4ccb-9730-06e890ecf00f')\"\n",
              "              title=\"Convert this dataframe to an interactive table.\"\n",
              "              style=\"display:none;\">\n",
              "        \n",
              "  <svg xmlns=\"http://www.w3.org/2000/svg\" height=\"24px\"viewBox=\"0 0 24 24\"\n",
              "       width=\"24px\">\n",
              "    <path d=\"M0 0h24v24H0V0z\" fill=\"none\"/>\n",
              "    <path d=\"M18.56 5.44l.94 2.06.94-2.06 2.06-.94-2.06-.94-.94-2.06-.94 2.06-2.06.94zm-11 1L8.5 8.5l.94-2.06 2.06-.94-2.06-.94L8.5 2.5l-.94 2.06-2.06.94zm10 10l.94 2.06.94-2.06 2.06-.94-2.06-.94-.94-2.06-.94 2.06-2.06.94z\"/><path d=\"M17.41 7.96l-1.37-1.37c-.4-.4-.92-.59-1.43-.59-.52 0-1.04.2-1.43.59L10.3 9.45l-7.72 7.72c-.78.78-.78 2.05 0 2.83L4 21.41c.39.39.9.59 1.41.59.51 0 1.02-.2 1.41-.59l7.78-7.78 2.81-2.81c.8-.78.8-2.07 0-2.86zM5.41 20L4 18.59l7.72-7.72 1.47 1.35L5.41 20z\"/>\n",
              "  </svg>\n",
              "      </button>\n",
              "      \n",
              "  <style>\n",
              "    .colab-df-container {\n",
              "      display:flex;\n",
              "      flex-wrap:wrap;\n",
              "      gap: 12px;\n",
              "    }\n",
              "\n",
              "    .colab-df-convert {\n",
              "      background-color: #E8F0FE;\n",
              "      border: none;\n",
              "      border-radius: 50%;\n",
              "      cursor: pointer;\n",
              "      display: none;\n",
              "      fill: #1967D2;\n",
              "      height: 32px;\n",
              "      padding: 0 0 0 0;\n",
              "      width: 32px;\n",
              "    }\n",
              "\n",
              "    .colab-df-convert:hover {\n",
              "      background-color: #E2EBFA;\n",
              "      box-shadow: 0px 1px 2px rgba(60, 64, 67, 0.3), 0px 1px 3px 1px rgba(60, 64, 67, 0.15);\n",
              "      fill: #174EA6;\n",
              "    }\n",
              "\n",
              "    [theme=dark] .colab-df-convert {\n",
              "      background-color: #3B4455;\n",
              "      fill: #D2E3FC;\n",
              "    }\n",
              "\n",
              "    [theme=dark] .colab-df-convert:hover {\n",
              "      background-color: #434B5C;\n",
              "      box-shadow: 0px 1px 3px 1px rgba(0, 0, 0, 0.15);\n",
              "      filter: drop-shadow(0px 1px 2px rgba(0, 0, 0, 0.3));\n",
              "      fill: #FFFFFF;\n",
              "    }\n",
              "  </style>\n",
              "\n",
              "      <script>\n",
              "        const buttonEl =\n",
              "          document.querySelector('#df-77614035-d1ff-4ccb-9730-06e890ecf00f button.colab-df-convert');\n",
              "        buttonEl.style.display =\n",
              "          google.colab.kernel.accessAllowed ? 'block' : 'none';\n",
              "\n",
              "        async function convertToInteractive(key) {\n",
              "          const element = document.querySelector('#df-77614035-d1ff-4ccb-9730-06e890ecf00f');\n",
              "          const dataTable =\n",
              "            await google.colab.kernel.invokeFunction('convertToInteractive',\n",
              "                                                     [key], {});\n",
              "          if (!dataTable) return;\n",
              "\n",
              "          const docLinkHtml = 'Like what you see? Visit the ' +\n",
              "            '<a target=\"_blank\" href=https://colab.research.google.com/notebooks/data_table.ipynb>data table notebook</a>'\n",
              "            + ' to learn more about interactive tables.';\n",
              "          element.innerHTML = '';\n",
              "          dataTable['output_type'] = 'display_data';\n",
              "          await google.colab.output.renderOutput(dataTable, element);\n",
              "          const docLink = document.createElement('div');\n",
              "          docLink.innerHTML = docLinkHtml;\n",
              "          element.appendChild(docLink);\n",
              "        }\n",
              "      </script>\n",
              "    </div>\n",
              "  </div>\n",
              "  "
            ]
          },
          "metadata": {},
          "execution_count": 18
        }
      ]
    },
    {
      "cell_type": "code",
      "source": [
        "#Let's have all the features in X & target in Y\n",
        "X = data.drop(columns='Item_Outlet_Sales', axis=1)\n",
        "y = data['Item_Outlet_Sales']"
      ],
      "metadata": {
        "id": "XKRHYxH9fcMP"
      },
      "execution_count": null,
      "outputs": []
    },
    {
      "cell_type": "code",
      "source": [
        "X.shape"
      ],
      "metadata": {
        "colab": {
          "base_uri": "https://localhost:8080/"
        },
        "id": "K7qiV71alJlz",
        "outputId": "200bcb42-6577-4dd8-a829-9229ac08a937"
      },
      "execution_count": null,
      "outputs": [
        {
          "output_type": "execute_result",
          "data": {
            "text/plain": [
              "(8523, 11)"
            ]
          },
          "metadata": {},
          "execution_count": 20
        }
      ]
    },
    {
      "cell_type": "code",
      "source": [
        "y.shape"
      ],
      "metadata": {
        "colab": {
          "base_uri": "https://localhost:8080/"
        },
        "id": "W_eP8lCslZk2",
        "outputId": "ede6d046-7e88-442f-ea82-eca34967244a"
      },
      "execution_count": null,
      "outputs": [
        {
          "output_type": "execute_result",
          "data": {
            "text/plain": [
              "(8523,)"
            ]
          },
          "metadata": {},
          "execution_count": 21
        }
      ]
    },
    {
      "cell_type": "code",
      "source": [
        "x_train = X.iloc[0:6822] # 80%\n",
        "x_test = X.iloc[6822:] # 20%\n",
        "y_train = y.iloc[0:6822] # 80%\n",
        "y_test = y.iloc[6822:] # 20%\n",
        "print(type(x_train))"
      ],
      "metadata": {
        "colab": {
          "base_uri": "https://localhost:8080/"
        },
        "id": "yGPhvi63lbXs",
        "outputId": "ce134271-30f1-40f1-ef2e-a9a50671b654"
      },
      "execution_count": null,
      "outputs": [
        {
          "output_type": "stream",
          "name": "stdout",
          "text": [
            "<class 'pandas.core.frame.DataFrame'>\n"
          ]
        }
      ]
    },
    {
      "cell_type": "code",
      "source": [
        "print(x_train.shape)\n",
        "print(x_test.shape)\n",
        "print(y_train.shape)\n",
        "print(y_test.shape)"
      ],
      "metadata": {
        "colab": {
          "base_uri": "https://localhost:8080/"
        },
        "id": "RVz9xCnNlkTo",
        "outputId": "0f6ec47e-2661-41ea-d4bf-9cc38b4beadc"
      },
      "execution_count": null,
      "outputs": [
        {
          "output_type": "stream",
          "name": "stdout",
          "text": [
            "(6822, 11)\n",
            "(1701, 11)\n",
            "(6822,)\n",
            "(1701,)\n"
          ]
        }
      ]
    },
    {
      "cell_type": "code",
      "source": [
        "x_train.head(100)"
      ],
      "metadata": {
        "colab": {
          "base_uri": "https://localhost:8080/",
          "height": 423
        },
        "id": "kCyTjSaklqdg",
        "outputId": "da67159a-17ab-43d9-9b00-c3f3ecb13236"
      },
      "execution_count": null,
      "outputs": [
        {
          "output_type": "execute_result",
          "data": {
            "text/plain": [
              "    Item_Identifier  Item_Weight  Item_Fat_Content  Item_Visibility  \\\n",
              "0               156     9.300000                 1         0.016047   \n",
              "1                 8     5.920000                 2         0.019278   \n",
              "2               662    17.500000                 1         0.016760   \n",
              "3              1121    19.200000                 2         0.000000   \n",
              "4              1297     8.930000                 1         0.000000   \n",
              "..              ...          ...               ...              ...   \n",
              "95              970    12.857645                 1         0.009715   \n",
              "96              382    12.150000                 1         0.131384   \n",
              "97              231     8.750000                 2         0.074613   \n",
              "98             1442    12.857645                 1         0.028460   \n",
              "99              231     8.750000                 2         0.074627   \n",
              "\n",
              "    Item_Type  Item_MRP  Outlet_Identifier  Outlet_Establishment_Year  \\\n",
              "0           4  249.8092                  9                       1999   \n",
              "1          14   48.2692                  3                       2009   \n",
              "2          10  141.6180                  9                       1999   \n",
              "3           6  182.0950                  0                       1998   \n",
              "4           9   53.8614                  1                       1987   \n",
              "..        ...       ...                ...                        ...   \n",
              "95          5  120.0414                  4                       1985   \n",
              "96          5  246.0460                  9                       1999   \n",
              "97          6  187.4556                  6                       2004   \n",
              "98          9  149.9708                  5                       1985   \n",
              "99          6  187.8556                  8                       1997   \n",
              "\n",
              "    Outlet_Size  Outlet_Location_Type  Outlet_Type  \n",
              "0             1                     0            1  \n",
              "1             1                     2            2  \n",
              "2             1                     0            1  \n",
              "3             2                     2            0  \n",
              "4             0                     2            1  \n",
              "..          ...                   ...          ...  \n",
              "95            2                     0            0  \n",
              "96            1                     0            1  \n",
              "97            2                     1            1  \n",
              "98            1                     2            3  \n",
              "99            2                     0            1  \n",
              "\n",
              "[100 rows x 11 columns]"
            ],
            "text/html": [
              "\n",
              "  <div id=\"df-a5a41e23-1a6f-475b-9fe0-472bc22fc8fc\">\n",
              "    <div class=\"colab-df-container\">\n",
              "      <div>\n",
              "<style scoped>\n",
              "    .dataframe tbody tr th:only-of-type {\n",
              "        vertical-align: middle;\n",
              "    }\n",
              "\n",
              "    .dataframe tbody tr th {\n",
              "        vertical-align: top;\n",
              "    }\n",
              "\n",
              "    .dataframe thead th {\n",
              "        text-align: right;\n",
              "    }\n",
              "</style>\n",
              "<table border=\"1\" class=\"dataframe\">\n",
              "  <thead>\n",
              "    <tr style=\"text-align: right;\">\n",
              "      <th></th>\n",
              "      <th>Item_Identifier</th>\n",
              "      <th>Item_Weight</th>\n",
              "      <th>Item_Fat_Content</th>\n",
              "      <th>Item_Visibility</th>\n",
              "      <th>Item_Type</th>\n",
              "      <th>Item_MRP</th>\n",
              "      <th>Outlet_Identifier</th>\n",
              "      <th>Outlet_Establishment_Year</th>\n",
              "      <th>Outlet_Size</th>\n",
              "      <th>Outlet_Location_Type</th>\n",
              "      <th>Outlet_Type</th>\n",
              "    </tr>\n",
              "  </thead>\n",
              "  <tbody>\n",
              "    <tr>\n",
              "      <th>0</th>\n",
              "      <td>156</td>\n",
              "      <td>9.300000</td>\n",
              "      <td>1</td>\n",
              "      <td>0.016047</td>\n",
              "      <td>4</td>\n",
              "      <td>249.8092</td>\n",
              "      <td>9</td>\n",
              "      <td>1999</td>\n",
              "      <td>1</td>\n",
              "      <td>0</td>\n",
              "      <td>1</td>\n",
              "    </tr>\n",
              "    <tr>\n",
              "      <th>1</th>\n",
              "      <td>8</td>\n",
              "      <td>5.920000</td>\n",
              "      <td>2</td>\n",
              "      <td>0.019278</td>\n",
              "      <td>14</td>\n",
              "      <td>48.2692</td>\n",
              "      <td>3</td>\n",
              "      <td>2009</td>\n",
              "      <td>1</td>\n",
              "      <td>2</td>\n",
              "      <td>2</td>\n",
              "    </tr>\n",
              "    <tr>\n",
              "      <th>2</th>\n",
              "      <td>662</td>\n",
              "      <td>17.500000</td>\n",
              "      <td>1</td>\n",
              "      <td>0.016760</td>\n",
              "      <td>10</td>\n",
              "      <td>141.6180</td>\n",
              "      <td>9</td>\n",
              "      <td>1999</td>\n",
              "      <td>1</td>\n",
              "      <td>0</td>\n",
              "      <td>1</td>\n",
              "    </tr>\n",
              "    <tr>\n",
              "      <th>3</th>\n",
              "      <td>1121</td>\n",
              "      <td>19.200000</td>\n",
              "      <td>2</td>\n",
              "      <td>0.000000</td>\n",
              "      <td>6</td>\n",
              "      <td>182.0950</td>\n",
              "      <td>0</td>\n",
              "      <td>1998</td>\n",
              "      <td>2</td>\n",
              "      <td>2</td>\n",
              "      <td>0</td>\n",
              "    </tr>\n",
              "    <tr>\n",
              "      <th>4</th>\n",
              "      <td>1297</td>\n",
              "      <td>8.930000</td>\n",
              "      <td>1</td>\n",
              "      <td>0.000000</td>\n",
              "      <td>9</td>\n",
              "      <td>53.8614</td>\n",
              "      <td>1</td>\n",
              "      <td>1987</td>\n",
              "      <td>0</td>\n",
              "      <td>2</td>\n",
              "      <td>1</td>\n",
              "    </tr>\n",
              "    <tr>\n",
              "      <th>...</th>\n",
              "      <td>...</td>\n",
              "      <td>...</td>\n",
              "      <td>...</td>\n",
              "      <td>...</td>\n",
              "      <td>...</td>\n",
              "      <td>...</td>\n",
              "      <td>...</td>\n",
              "      <td>...</td>\n",
              "      <td>...</td>\n",
              "      <td>...</td>\n",
              "      <td>...</td>\n",
              "    </tr>\n",
              "    <tr>\n",
              "      <th>95</th>\n",
              "      <td>970</td>\n",
              "      <td>12.857645</td>\n",
              "      <td>1</td>\n",
              "      <td>0.009715</td>\n",
              "      <td>5</td>\n",
              "      <td>120.0414</td>\n",
              "      <td>4</td>\n",
              "      <td>1985</td>\n",
              "      <td>2</td>\n",
              "      <td>0</td>\n",
              "      <td>0</td>\n",
              "    </tr>\n",
              "    <tr>\n",
              "      <th>96</th>\n",
              "      <td>382</td>\n",
              "      <td>12.150000</td>\n",
              "      <td>1</td>\n",
              "      <td>0.131384</td>\n",
              "      <td>5</td>\n",
              "      <td>246.0460</td>\n",
              "      <td>9</td>\n",
              "      <td>1999</td>\n",
              "      <td>1</td>\n",
              "      <td>0</td>\n",
              "      <td>1</td>\n",
              "    </tr>\n",
              "    <tr>\n",
              "      <th>97</th>\n",
              "      <td>231</td>\n",
              "      <td>8.750000</td>\n",
              "      <td>2</td>\n",
              "      <td>0.074613</td>\n",
              "      <td>6</td>\n",
              "      <td>187.4556</td>\n",
              "      <td>6</td>\n",
              "      <td>2004</td>\n",
              "      <td>2</td>\n",
              "      <td>1</td>\n",
              "      <td>1</td>\n",
              "    </tr>\n",
              "    <tr>\n",
              "      <th>98</th>\n",
              "      <td>1442</td>\n",
              "      <td>12.857645</td>\n",
              "      <td>1</td>\n",
              "      <td>0.028460</td>\n",
              "      <td>9</td>\n",
              "      <td>149.9708</td>\n",
              "      <td>5</td>\n",
              "      <td>1985</td>\n",
              "      <td>1</td>\n",
              "      <td>2</td>\n",
              "      <td>3</td>\n",
              "    </tr>\n",
              "    <tr>\n",
              "      <th>99</th>\n",
              "      <td>231</td>\n",
              "      <td>8.750000</td>\n",
              "      <td>2</td>\n",
              "      <td>0.074627</td>\n",
              "      <td>6</td>\n",
              "      <td>187.8556</td>\n",
              "      <td>8</td>\n",
              "      <td>1997</td>\n",
              "      <td>2</td>\n",
              "      <td>0</td>\n",
              "      <td>1</td>\n",
              "    </tr>\n",
              "  </tbody>\n",
              "</table>\n",
              "<p>100 rows × 11 columns</p>\n",
              "</div>\n",
              "      <button class=\"colab-df-convert\" onclick=\"convertToInteractive('df-a5a41e23-1a6f-475b-9fe0-472bc22fc8fc')\"\n",
              "              title=\"Convert this dataframe to an interactive table.\"\n",
              "              style=\"display:none;\">\n",
              "        \n",
              "  <svg xmlns=\"http://www.w3.org/2000/svg\" height=\"24px\"viewBox=\"0 0 24 24\"\n",
              "       width=\"24px\">\n",
              "    <path d=\"M0 0h24v24H0V0z\" fill=\"none\"/>\n",
              "    <path d=\"M18.56 5.44l.94 2.06.94-2.06 2.06-.94-2.06-.94-.94-2.06-.94 2.06-2.06.94zm-11 1L8.5 8.5l.94-2.06 2.06-.94-2.06-.94L8.5 2.5l-.94 2.06-2.06.94zm10 10l.94 2.06.94-2.06 2.06-.94-2.06-.94-.94-2.06-.94 2.06-2.06.94z\"/><path d=\"M17.41 7.96l-1.37-1.37c-.4-.4-.92-.59-1.43-.59-.52 0-1.04.2-1.43.59L10.3 9.45l-7.72 7.72c-.78.78-.78 2.05 0 2.83L4 21.41c.39.39.9.59 1.41.59.51 0 1.02-.2 1.41-.59l7.78-7.78 2.81-2.81c.8-.78.8-2.07 0-2.86zM5.41 20L4 18.59l7.72-7.72 1.47 1.35L5.41 20z\"/>\n",
              "  </svg>\n",
              "      </button>\n",
              "      \n",
              "  <style>\n",
              "    .colab-df-container {\n",
              "      display:flex;\n",
              "      flex-wrap:wrap;\n",
              "      gap: 12px;\n",
              "    }\n",
              "\n",
              "    .colab-df-convert {\n",
              "      background-color: #E8F0FE;\n",
              "      border: none;\n",
              "      border-radius: 50%;\n",
              "      cursor: pointer;\n",
              "      display: none;\n",
              "      fill: #1967D2;\n",
              "      height: 32px;\n",
              "      padding: 0 0 0 0;\n",
              "      width: 32px;\n",
              "    }\n",
              "\n",
              "    .colab-df-convert:hover {\n",
              "      background-color: #E2EBFA;\n",
              "      box-shadow: 0px 1px 2px rgba(60, 64, 67, 0.3), 0px 1px 3px 1px rgba(60, 64, 67, 0.15);\n",
              "      fill: #174EA6;\n",
              "    }\n",
              "\n",
              "    [theme=dark] .colab-df-convert {\n",
              "      background-color: #3B4455;\n",
              "      fill: #D2E3FC;\n",
              "    }\n",
              "\n",
              "    [theme=dark] .colab-df-convert:hover {\n",
              "      background-color: #434B5C;\n",
              "      box-shadow: 0px 1px 3px 1px rgba(0, 0, 0, 0.15);\n",
              "      filter: drop-shadow(0px 1px 2px rgba(0, 0, 0, 0.3));\n",
              "      fill: #FFFFFF;\n",
              "    }\n",
              "  </style>\n",
              "\n",
              "      <script>\n",
              "        const buttonEl =\n",
              "          document.querySelector('#df-a5a41e23-1a6f-475b-9fe0-472bc22fc8fc button.colab-df-convert');\n",
              "        buttonEl.style.display =\n",
              "          google.colab.kernel.accessAllowed ? 'block' : 'none';\n",
              "\n",
              "        async function convertToInteractive(key) {\n",
              "          const element = document.querySelector('#df-a5a41e23-1a6f-475b-9fe0-472bc22fc8fc');\n",
              "          const dataTable =\n",
              "            await google.colab.kernel.invokeFunction('convertToInteractive',\n",
              "                                                     [key], {});\n",
              "          if (!dataTable) return;\n",
              "\n",
              "          const docLinkHtml = 'Like what you see? Visit the ' +\n",
              "            '<a target=\"_blank\" href=https://colab.research.google.com/notebooks/data_table.ipynb>data table notebook</a>'\n",
              "            + ' to learn more about interactive tables.';\n",
              "          element.innerHTML = '';\n",
              "          dataTable['output_type'] = 'display_data';\n",
              "          await google.colab.output.renderOutput(dataTable, element);\n",
              "          const docLink = document.createElement('div');\n",
              "          docLink.innerHTML = docLinkHtml;\n",
              "          element.appendChild(docLink);\n",
              "        }\n",
              "      </script>\n",
              "    </div>\n",
              "  </div>\n",
              "  "
            ]
          },
          "metadata": {},
          "execution_count": 24
        }
      ]
    },
    {
      "cell_type": "code",
      "source": [
        "import numpy as np\n",
        "\n",
        "x_train = np.asarray(x_train).astype(np.float32)\n",
        "x_test = np.asarray(x_test).astype(np.float32)\n",
        "y_train = np.asarray(y_train).astype(np.float32)\n",
        "y_test = np.asarray(y_test).astype(np.float32)"
      ],
      "metadata": {
        "id": "Qx-bfhu9lxGr"
      },
      "execution_count": null,
      "outputs": []
    },
    {
      "cell_type": "code",
      "source": [
        "mea = np.mean(x_train,axis = 0)\n",
        "std = np.std(x_train,axis = 0)\n",
        "x_train = (x_train-mea)/std\n",
        "x_test = (x_test-mea)/std"
      ],
      "metadata": {
        "id": "lEbsm3Pfl-C9"
      },
      "execution_count": null,
      "outputs": []
    },
    {
      "cell_type": "code",
      "source": [
        "import tensorflow as tf\n",
        "from keras.layers import Dropout\n",
        "from tensorflow.keras.layers import Dense\n",
        "from tensorflow.keras.layers import LSTM\n",
        "from tensorflow.keras.metrics import RootMeanSquaredError, MeanAbsoluteError\n",
        "from tensorflow.keras.models import Sequential"
      ],
      "metadata": {
        "id": "KhAkxZnimB2q"
      },
      "execution_count": null,
      "outputs": []
    },
    {
      "cell_type": "markdown",
      "source": [
        "LSTM starts"
      ],
      "metadata": {
        "id": "mGYbmzqxmLVy"
      }
    },
    {
      "cell_type": "code",
      "source": [
        "def get_model(params, input_shape):\n",
        "\tmodel = Sequential()\n",
        "\tmodel.add(LSTM(units=params[\"lstm_units\"], return_sequences=True, input_shape=(input_shape, 1)))\n",
        "\tmodel.add(Dropout(rate=params[\"dropout\"]))\n",
        "\n",
        "\tmodel.add(LSTM(units=params[\"lstm_units\"], return_sequences=True))\n",
        "\tmodel.add(Dropout(rate=params[\"dropout\"]))\n",
        "\n",
        "\tmodel.add(LSTM(units=params[\"lstm_units\"], return_sequences=True))\n",
        "\tmodel.add(Dropout(rate=params[\"dropout\"]))\n",
        "\n",
        "\tmodel.add(LSTM(units=params[\"lstm_units\"], return_sequences=False))\n",
        "\tmodel.add(Dropout(rate=params[\"dropout\"]))\n",
        "\n",
        "\tmodel.add(Dense(1,activation = \"linear\"))\n",
        "\n",
        "\tmodel.compile(loss=params[\"loss\"],\n",
        "              \toptimizer=tf.keras.optimizers.Adam(\n",
        "    learning_rate=0.003),\n",
        "              \tmetrics=[RootMeanSquaredError(), MeanAbsoluteError()])\n",
        "\n",
        "\treturn model"
      ],
      "metadata": {
        "id": "WBi7TP1FmKWF"
      },
      "execution_count": null,
      "outputs": []
    },
    {
      "cell_type": "code",
      "source": [
        "params = {\n",
        "\t\"loss\": \"mean_squared_error\",\n",
        "\t\"optimizer\": \"adam\",\n",
        "\t\"dropout\": 0.2,\n",
        "\t\"lstm_units\": 138,\n",
        "\t\"epochs\": 100,\n",
        "\t\"batch_size\": 128,\n",
        "\t\"es_patience\" : 10\n",
        "}\n",
        "\n",
        "model = get_model(params=params, input_shape=x_train.shape[1])"
      ],
      "metadata": {
        "id": "CJcsCDoBmFme"
      },
      "execution_count": null,
      "outputs": []
    },
    {
      "cell_type": "code",
      "source": [
        "es_callback = tf.keras.callbacks.EarlyStopping(monitor='val_root_mean_squared_error',\n",
        "                                           \tmode='min', \n",
        "patience=params[\"es_patience\"])"
      ],
      "metadata": {
        "id": "oTudXa4ZmRWm"
      },
      "execution_count": null,
      "outputs": []
    },
    {
      "cell_type": "code",
      "source": [
        "history = model.fit(\n",
        "\tx_train,\n",
        "\ty_train,\n",
        "\tvalidation_data=(x_test, y_test),\n",
        "\tepochs=params[\"epochs\"],\n",
        "\tbatch_size=params[\"batch_size\"],\n",
        "\tverbose=1, callbacks=[es_callback]\n",
        ")"
      ],
      "metadata": {
        "colab": {
          "base_uri": "https://localhost:8080/"
        },
        "id": "vJA9zBVfmVnK",
        "outputId": "6a0f2a3d-089e-479a-e9e4-bd9002f1fd85"
      },
      "execution_count": null,
      "outputs": [
        {
          "output_type": "stream",
          "name": "stdout",
          "text": [
            "Epoch 1/100\n",
            "54/54 [==============================] - 14s 35ms/step - loss: 7567625.5000 - root_mean_squared_error: 2750.9316 - mean_absolute_error: 2162.0112 - val_loss: 7496246.0000 - val_root_mean_squared_error: 2737.9272 - val_mean_absolute_error: 2123.9185\n",
            "Epoch 2/100\n",
            "54/54 [==============================] - 1s 11ms/step - loss: 7461084.5000 - root_mean_squared_error: 2731.4985 - mean_absolute_error: 2137.1990 - val_loss: 7400083.0000 - val_root_mean_squared_error: 2720.3093 - val_mean_absolute_error: 2101.3938\n",
            "Epoch 3/100\n",
            "54/54 [==============================] - 1s 11ms/step - loss: 7365801.5000 - root_mean_squared_error: 2714.0010 - mean_absolute_error: 2115.0681 - val_loss: 7307464.0000 - val_root_mean_squared_error: 2703.2322 - val_mean_absolute_error: 2079.6550\n",
            "Epoch 4/100\n",
            "54/54 [==============================] - 1s 10ms/step - loss: 7272813.0000 - root_mean_squared_error: 2696.8152 - mean_absolute_error: 2093.4712 - val_loss: 7216774.0000 - val_root_mean_squared_error: 2686.4053 - val_mean_absolute_error: 2058.4622\n",
            "Epoch 5/100\n",
            "54/54 [==============================] - 1s 11ms/step - loss: 7182021.0000 - root_mean_squared_error: 2679.9292 - mean_absolute_error: 2072.3494 - val_loss: 7127924.5000 - val_root_mean_squared_error: 2669.8174 - val_mean_absolute_error: 2037.7692\n",
            "Epoch 6/100\n",
            "54/54 [==============================] - 1s 10ms/step - loss: 7093124.0000 - root_mean_squared_error: 2663.2920 - mean_absolute_error: 2051.6685 - val_loss: 7040225.5000 - val_root_mean_squared_error: 2653.3423 - val_mean_absolute_error: 2017.4727\n",
            "Epoch 7/100\n",
            "54/54 [==============================] - 1s 11ms/step - loss: 7004472.0000 - root_mean_squared_error: 2646.5962 - mean_absolute_error: 2031.2261 - val_loss: 6954019.0000 - val_root_mean_squared_error: 2637.0474 - val_mean_absolute_error: 1997.6936\n",
            "Epoch 8/100\n",
            "54/54 [==============================] - 1s 11ms/step - loss: 6918388.5000 - root_mean_squared_error: 2630.2830 - mean_absolute_error: 2011.6477 - val_loss: 6869792.5000 - val_root_mean_squared_error: 2621.0288 - val_mean_absolute_error: 1978.5187\n",
            "Epoch 9/100\n",
            "54/54 [==============================] - 1s 15ms/step - loss: 6833481.5000 - root_mean_squared_error: 2614.0928 - mean_absolute_error: 1992.7095 - val_loss: 6786409.0000 - val_root_mean_squared_error: 2605.0737 - val_mean_absolute_error: 1959.7076\n",
            "Epoch 10/100\n",
            "54/54 [==============================] - 1s 15ms/step - loss: 6749697.0000 - root_mean_squared_error: 2598.0178 - mean_absolute_error: 1974.0204 - val_loss: 6704816.0000 - val_root_mean_squared_error: 2589.3660 - val_mean_absolute_error: 1941.3926\n",
            "Epoch 11/100\n",
            "54/54 [==============================] - 1s 15ms/step - loss: 6668247.0000 - root_mean_squared_error: 2582.2949 - mean_absolute_error: 1955.8038 - val_loss: 6624704.5000 - val_root_mean_squared_error: 2573.8501 - val_mean_absolute_error: 1923.4321\n",
            "Epoch 12/100\n",
            "54/54 [==============================] - 1s 15ms/step - loss: 6587106.5000 - root_mean_squared_error: 2566.5359 - mean_absolute_error: 1937.8809 - val_loss: 6545674.5000 - val_root_mean_squared_error: 2558.4517 - val_mean_absolute_error: 1905.9064\n",
            "Epoch 13/100\n",
            "54/54 [==============================] - 1s 12ms/step - loss: 6506964.5000 - root_mean_squared_error: 2550.8752 - mean_absolute_error: 1920.3326 - val_loss: 6467490.0000 - val_root_mean_squared_error: 2543.1260 - val_mean_absolute_error: 1888.6519\n",
            "Epoch 14/100\n",
            "54/54 [==============================] - 1s 11ms/step - loss: 6429792.0000 - root_mean_squared_error: 2535.7034 - mean_absolute_error: 1903.0740 - val_loss: 6390760.0000 - val_root_mean_squared_error: 2527.9951 - val_mean_absolute_error: 1871.7516\n",
            "Epoch 15/100\n",
            "54/54 [==============================] - 1s 10ms/step - loss: 6352345.0000 - root_mean_squared_error: 2520.3857 - mean_absolute_error: 1886.3138 - val_loss: 6315362.0000 - val_root_mean_squared_error: 2513.0383 - val_mean_absolute_error: 1855.2378\n",
            "Epoch 16/100\n",
            "54/54 [==============================] - 1s 11ms/step - loss: 6275781.5000 - root_mean_squared_error: 2505.1509 - mean_absolute_error: 1869.5212 - val_loss: 6241182.0000 - val_root_mean_squared_error: 2498.2358 - val_mean_absolute_error: 1839.1326\n",
            "Epoch 17/100\n",
            "54/54 [==============================] - 1s 11ms/step - loss: 6201349.0000 - root_mean_squared_error: 2490.2507 - mean_absolute_error: 1853.5502 - val_loss: 6168113.5000 - val_root_mean_squared_error: 2483.5686 - val_mean_absolute_error: 1823.3450\n",
            "Epoch 18/100\n",
            "54/54 [==============================] - 1s 11ms/step - loss: 6129362.0000 - root_mean_squared_error: 2475.7549 - mean_absolute_error: 1837.8466 - val_loss: 6096480.5000 - val_root_mean_squared_error: 2469.1052 - val_mean_absolute_error: 1808.1208\n",
            "Epoch 19/100\n",
            "54/54 [==============================] - 1s 10ms/step - loss: 6054997.0000 - root_mean_squared_error: 2460.6902 - mean_absolute_error: 1821.9474 - val_loss: 6025401.5000 - val_root_mean_squared_error: 2454.6694 - val_mean_absolute_error: 1793.0736\n",
            "Epoch 20/100\n",
            "54/54 [==============================] - 1s 11ms/step - loss: 5983318.0000 - root_mean_squared_error: 2446.0820 - mean_absolute_error: 1806.7643 - val_loss: 5955961.5000 - val_root_mean_squared_error: 2440.4839 - val_mean_absolute_error: 1778.5344\n",
            "Epoch 21/100\n",
            "54/54 [==============================] - 1s 11ms/step - loss: 5917682.5000 - root_mean_squared_error: 2432.6287 - mean_absolute_error: 1792.1737 - val_loss: 5887720.0000 - val_root_mean_squared_error: 2426.4624 - val_mean_absolute_error: 1764.3536\n",
            "Epoch 22/100\n",
            "54/54 [==============================] - 1s 11ms/step - loss: 5847399.5000 - root_mean_squared_error: 2418.1396 - mean_absolute_error: 1777.1665 - val_loss: 5820543.0000 - val_root_mean_squared_error: 2412.5801 - val_mean_absolute_error: 1750.5583\n",
            "Epoch 23/100\n",
            "54/54 [==============================] - 1s 10ms/step - loss: 5780178.5000 - root_mean_squared_error: 2404.2002 - mean_absolute_error: 1763.4404 - val_loss: 5754394.0000 - val_root_mean_squared_error: 2398.8318 - val_mean_absolute_error: 1737.0477\n",
            "Epoch 24/100\n",
            "54/54 [==============================] - 1s 10ms/step - loss: 5713486.0000 - root_mean_squared_error: 2390.2898 - mean_absolute_error: 1749.0360 - val_loss: 5689496.5000 - val_root_mean_squared_error: 2385.2666 - val_mean_absolute_error: 1723.9181\n",
            "Epoch 25/100\n",
            "54/54 [==============================] - 1s 10ms/step - loss: 5648256.5000 - root_mean_squared_error: 2376.6060 - mean_absolute_error: 1735.5094 - val_loss: 5624924.5000 - val_root_mean_squared_error: 2371.6924 - val_mean_absolute_error: 1710.9310\n",
            "Epoch 26/100\n",
            "54/54 [==============================] - 1s 10ms/step - loss: 5581929.5000 - root_mean_squared_error: 2362.6106 - mean_absolute_error: 1721.2554 - val_loss: 5561534.0000 - val_root_mean_squared_error: 2358.2905 - val_mean_absolute_error: 1698.2002\n",
            "Epoch 27/100\n",
            "54/54 [==============================] - 1s 10ms/step - loss: 5519907.5000 - root_mean_squared_error: 2349.4482 - mean_absolute_error: 1708.2664 - val_loss: 5499458.5000 - val_root_mean_squared_error: 2345.0925 - val_mean_absolute_error: 1685.8041\n",
            "Epoch 28/100\n",
            "54/54 [==============================] - 1s 10ms/step - loss: 5458354.0000 - root_mean_squared_error: 2336.3120 - mean_absolute_error: 1695.6395 - val_loss: 5438698.0000 - val_root_mean_squared_error: 2332.1016 - val_mean_absolute_error: 1673.8026\n",
            "Epoch 29/100\n",
            "54/54 [==============================] - 1s 11ms/step - loss: 5395310.5000 - root_mean_squared_error: 2322.7808 - mean_absolute_error: 1682.8939 - val_loss: 5378744.5000 - val_root_mean_squared_error: 2319.2119 - val_mean_absolute_error: 1662.0431\n",
            "Epoch 30/100\n",
            "54/54 [==============================] - 1s 15ms/step - loss: 5332729.5000 - root_mean_squared_error: 2309.2703 - mean_absolute_error: 1670.8475 - val_loss: 5318546.5000 - val_root_mean_squared_error: 2306.1973 - val_mean_absolute_error: 1650.3351\n",
            "Epoch 31/100\n",
            "54/54 [==============================] - 1s 16ms/step - loss: 5270814.0000 - root_mean_squared_error: 2295.8252 - mean_absolute_error: 1657.6886 - val_loss: 5258689.0000 - val_root_mean_squared_error: 2293.1831 - val_mean_absolute_error: 1638.7729\n",
            "Epoch 32/100\n",
            "54/54 [==============================] - 1s 16ms/step - loss: 5214025.0000 - root_mean_squared_error: 2283.4241 - mean_absolute_error: 1646.2727 - val_loss: 5200577.0000 - val_root_mean_squared_error: 2280.4773 - val_mean_absolute_error: 1627.6313\n",
            "Epoch 33/100\n",
            "54/54 [==============================] - 1s 17ms/step - loss: 5152739.0000 - root_mean_squared_error: 2269.9646 - mean_absolute_error: 1634.1256 - val_loss: 5143862.0000 - val_root_mean_squared_error: 2268.0083 - val_mean_absolute_error: 1616.7903\n",
            "Epoch 34/100\n",
            "54/54 [==============================] - 1s 11ms/step - loss: 5098452.0000 - root_mean_squared_error: 2257.9751 - mean_absolute_error: 1623.4517 - val_loss: 5087534.0000 - val_root_mean_squared_error: 2255.5562 - val_mean_absolute_error: 1606.0310\n",
            "Epoch 35/100\n",
            "54/54 [==============================] - 1s 11ms/step - loss: 5040648.5000 - root_mean_squared_error: 2245.1389 - mean_absolute_error: 1612.6184 - val_loss: 5033031.5000 - val_root_mean_squared_error: 2243.4419 - val_mean_absolute_error: 1595.6356\n",
            "Epoch 36/100\n",
            "54/54 [==============================] - 1s 11ms/step - loss: 4984979.0000 - root_mean_squared_error: 2232.7065 - mean_absolute_error: 1601.1990 - val_loss: 4978617.0000 - val_root_mean_squared_error: 2231.2815 - val_mean_absolute_error: 1585.2915\n",
            "Epoch 37/100\n",
            "54/54 [==============================] - 1s 11ms/step - loss: 4929447.5000 - root_mean_squared_error: 2220.2358 - mean_absolute_error: 1589.8849 - val_loss: 4925995.0000 - val_root_mean_squared_error: 2219.4583 - val_mean_absolute_error: 1575.3357\n",
            "Epoch 38/100\n",
            "54/54 [==============================] - 1s 10ms/step - loss: 4879410.0000 - root_mean_squared_error: 2208.9387 - mean_absolute_error: 1580.9187 - val_loss: 4873997.5000 - val_root_mean_squared_error: 2207.7131 - val_mean_absolute_error: 1565.6492\n",
            "Epoch 39/100\n",
            "54/54 [==============================] - 1s 11ms/step - loss: 4827123.5000 - root_mean_squared_error: 2197.0715 - mean_absolute_error: 1571.7162 - val_loss: 4823182.5000 - val_root_mean_squared_error: 2196.1746 - val_mean_absolute_error: 1556.3892\n",
            "Epoch 40/100\n",
            "54/54 [==============================] - 1s 11ms/step - loss: 4773434.0000 - root_mean_squared_error: 2184.8191 - mean_absolute_error: 1560.9368 - val_loss: 4773441.5000 - val_root_mean_squared_error: 2184.8208 - val_mean_absolute_error: 1547.4265\n",
            "Epoch 41/100\n",
            "54/54 [==============================] - 1s 11ms/step - loss: 4723318.0000 - root_mean_squared_error: 2173.3196 - mean_absolute_error: 1551.7188 - val_loss: 4724240.5000 - val_root_mean_squared_error: 2173.5317 - val_mean_absolute_error: 1538.7045\n",
            "Epoch 42/100\n",
            "54/54 [==============================] - 1s 11ms/step - loss: 4674466.5000 - root_mean_squared_error: 2162.0515 - mean_absolute_error: 1541.8065 - val_loss: 4676066.0000 - val_root_mean_squared_error: 2162.4214 - val_mean_absolute_error: 1530.2772\n",
            "Epoch 43/100\n",
            "54/54 [==============================] - 1s 10ms/step - loss: 4624636.0000 - root_mean_squared_error: 2150.4966 - mean_absolute_error: 1533.5629 - val_loss: 4628579.5000 - val_root_mean_squared_error: 2151.4133 - val_mean_absolute_error: 1522.0507\n",
            "Epoch 44/100\n",
            "54/54 [==============================] - 1s 11ms/step - loss: 4577799.5000 - root_mean_squared_error: 2139.5793 - mean_absolute_error: 1524.5731 - val_loss: 4581999.5000 - val_root_mean_squared_error: 2140.5605 - val_mean_absolute_error: 1514.1029\n",
            "Epoch 45/100\n",
            "54/54 [==============================] - 1s 11ms/step - loss: 4532189.5000 - root_mean_squared_error: 2128.8938 - mean_absolute_error: 1515.7524 - val_loss: 4536260.0000 - val_root_mean_squared_error: 2129.8496 - val_mean_absolute_error: 1506.3276\n",
            "Epoch 46/100\n",
            "54/54 [==============================] - 1s 11ms/step - loss: 4483917.0000 - root_mean_squared_error: 2117.5261 - mean_absolute_error: 1506.9359 - val_loss: 4491358.0000 - val_root_mean_squared_error: 2119.2825 - val_mean_absolute_error: 1498.7440\n",
            "Epoch 47/100\n",
            "54/54 [==============================] - 1s 11ms/step - loss: 4440536.5000 - root_mean_squared_error: 2107.2581 - mean_absolute_error: 1499.6984 - val_loss: 4448055.5000 - val_root_mean_squared_error: 2109.0415 - val_mean_absolute_error: 1491.4747\n",
            "Epoch 48/100\n",
            "54/54 [==============================] - 1s 10ms/step - loss: 4395558.5000 - root_mean_squared_error: 2096.5586 - mean_absolute_error: 1491.3247 - val_loss: 4405120.5000 - val_root_mean_squared_error: 2098.8379 - val_mean_absolute_error: 1484.3755\n",
            "Epoch 49/100\n",
            "54/54 [==============================] - 1s 11ms/step - loss: 4353823.5000 - root_mean_squared_error: 2086.5818 - mean_absolute_error: 1483.0060 - val_loss: 4362645.5000 - val_root_mean_squared_error: 2088.6946 - val_mean_absolute_error: 1477.4578\n",
            "Epoch 50/100\n",
            "54/54 [==============================] - 1s 11ms/step - loss: 4312444.5000 - root_mean_squared_error: 2076.6426 - mean_absolute_error: 1475.5232 - val_loss: 4321444.5000 - val_root_mean_squared_error: 2078.8083 - val_mean_absolute_error: 1470.8295\n",
            "Epoch 51/100\n",
            "54/54 [==============================] - 1s 15ms/step - loss: 4265569.5000 - root_mean_squared_error: 2065.3254 - mean_absolute_error: 1468.1227 - val_loss: 4280993.0000 - val_root_mean_squared_error: 2069.0559 - val_mean_absolute_error: 1464.3313\n",
            "Epoch 52/100\n",
            "54/54 [==============================] - 1s 16ms/step - loss: 4228312.0000 - root_mean_squared_error: 2056.2859 - mean_absolute_error: 1460.7848 - val_loss: 4241324.0000 - val_root_mean_squared_error: 2059.4475 - val_mean_absolute_error: 1457.9431\n",
            "Epoch 53/100\n",
            "54/54 [==============================] - 1s 16ms/step - loss: 4186385.2500 - root_mean_squared_error: 2046.0658 - mean_absolute_error: 1454.2446 - val_loss: 4202471.0000 - val_root_mean_squared_error: 2049.9929 - val_mean_absolute_error: 1451.7081\n",
            "Epoch 54/100\n",
            "54/54 [==============================] - 1s 16ms/step - loss: 4144873.0000 - root_mean_squared_error: 2035.8961 - mean_absolute_error: 1446.5895 - val_loss: 4164379.7500 - val_root_mean_squared_error: 2040.6812 - val_mean_absolute_error: 1445.6295\n",
            "Epoch 55/100\n",
            "54/54 [==============================] - 1s 12ms/step - loss: 4109363.7500 - root_mean_squared_error: 2027.1565 - mean_absolute_error: 1440.4585 - val_loss: 4127244.7500 - val_root_mean_squared_error: 2031.5621 - val_mean_absolute_error: 1439.7668\n",
            "Epoch 56/100\n",
            "54/54 [==============================] - 1s 11ms/step - loss: 4071135.2500 - root_mean_squared_error: 2017.7054 - mean_absolute_error: 1434.7665 - val_loss: 4090737.0000 - val_root_mean_squared_error: 2022.5570 - val_mean_absolute_error: 1434.0394\n",
            "Epoch 57/100\n",
            "54/54 [==============================] - 1s 11ms/step - loss: 4031855.7500 - root_mean_squared_error: 2007.9481 - mean_absolute_error: 1426.6936 - val_loss: 4054842.7500 - val_root_mean_squared_error: 2013.6639 - val_mean_absolute_error: 1428.4714\n",
            "Epoch 58/100\n",
            "54/54 [==============================] - 1s 11ms/step - loss: 4001007.0000 - root_mean_squared_error: 2000.2517 - mean_absolute_error: 1423.4080 - val_loss: 4019863.5000 - val_root_mean_squared_error: 2004.9597 - val_mean_absolute_error: 1423.1047\n",
            "Epoch 59/100\n",
            "54/54 [==============================] - 1s 11ms/step - loss: 3961485.2500 - root_mean_squared_error: 1990.3480 - mean_absolute_error: 1415.9739 - val_loss: 3985878.7500 - val_root_mean_squared_error: 1996.4666 - val_mean_absolute_error: 1417.8684\n",
            "Epoch 60/100\n",
            "54/54 [==============================] - 1s 11ms/step - loss: 3930554.2500 - root_mean_squared_error: 1982.5625 - mean_absolute_error: 1411.9995 - val_loss: 3952443.5000 - val_root_mean_squared_error: 1988.0753 - val_mean_absolute_error: 1412.7650\n",
            "Epoch 61/100\n",
            "54/54 [==============================] - 1s 11ms/step - loss: 3896248.0000 - root_mean_squared_error: 1973.8916 - mean_absolute_error: 1404.7848 - val_loss: 3919905.5000 - val_root_mean_squared_error: 1979.8751 - val_mean_absolute_error: 1407.8583\n",
            "Epoch 62/100\n",
            "54/54 [==============================] - 1s 11ms/step - loss: 3861596.5000 - root_mean_squared_error: 1965.0945 - mean_absolute_error: 1399.5973 - val_loss: 3888043.5000 - val_root_mean_squared_error: 1971.8123 - val_mean_absolute_error: 1403.0835\n",
            "Epoch 63/100\n",
            "54/54 [==============================] - 1s 11ms/step - loss: 3830952.7500 - root_mean_squared_error: 1957.2820 - mean_absolute_error: 1395.3413 - val_loss: 3856785.2500 - val_root_mean_squared_error: 1963.8700 - val_mean_absolute_error: 1398.4930\n",
            "Epoch 64/100\n",
            "54/54 [==============================] - 1s 11ms/step - loss: 3797907.2500 - root_mean_squared_error: 1948.8220 - mean_absolute_error: 1389.8118 - val_loss: 3826444.5000 - val_root_mean_squared_error: 1956.1300 - val_mean_absolute_error: 1394.1212\n",
            "Epoch 65/100\n",
            "54/54 [==============================] - 1s 10ms/step - loss: 3768120.0000 - root_mean_squared_error: 1941.1647 - mean_absolute_error: 1386.0171 - val_loss: 3796747.2500 - val_root_mean_squared_error: 1948.5244 - val_mean_absolute_error: 1389.9077\n",
            "Epoch 66/100\n",
            "54/54 [==============================] - 1s 11ms/step - loss: 3739937.5000 - root_mean_squared_error: 1933.8917 - mean_absolute_error: 1382.1538 - val_loss: 3767830.0000 - val_root_mean_squared_error: 1941.0900 - val_mean_absolute_error: 1385.8619\n",
            "Epoch 67/100\n",
            "54/54 [==============================] - 1s 11ms/step - loss: 3708001.7500 - root_mean_squared_error: 1925.6172 - mean_absolute_error: 1377.3767 - val_loss: 3739110.7500 - val_root_mean_squared_error: 1933.6780 - val_mean_absolute_error: 1381.9323\n",
            "Epoch 68/100\n",
            "54/54 [==============================] - 1s 11ms/step - loss: 3680785.7500 - root_mean_squared_error: 1918.5374 - mean_absolute_error: 1372.1388 - val_loss: 3711367.0000 - val_root_mean_squared_error: 1926.4908 - val_mean_absolute_error: 1378.2183\n",
            "Epoch 69/100\n",
            "54/54 [==============================] - 1s 11ms/step - loss: 3654524.7500 - root_mean_squared_error: 1911.6812 - mean_absolute_error: 1368.4258 - val_loss: 3684393.2500 - val_root_mean_squared_error: 1919.4773 - val_mean_absolute_error: 1374.6405\n",
            "Epoch 70/100\n",
            "54/54 [==============================] - 1s 11ms/step - loss: 3626725.5000 - root_mean_squared_error: 1904.3964 - mean_absolute_error: 1364.7206 - val_loss: 3657872.7500 - val_root_mean_squared_error: 1912.5566 - val_mean_absolute_error: 1371.1096\n",
            "Epoch 71/100\n",
            "54/54 [==============================] - 1s 12ms/step - loss: 3600892.5000 - root_mean_squared_error: 1897.6018 - mean_absolute_error: 1362.0658 - val_loss: 3632218.2500 - val_root_mean_squared_error: 1905.8379 - val_mean_absolute_error: 1367.7327\n",
            "Epoch 72/100\n",
            "54/54 [==============================] - 1s 17ms/step - loss: 3571189.0000 - root_mean_squared_error: 1889.7590 - mean_absolute_error: 1357.0547 - val_loss: 3606910.7500 - val_root_mean_squared_error: 1899.1869 - val_mean_absolute_error: 1364.4235\n",
            "Epoch 73/100\n",
            "54/54 [==============================] - 1s 16ms/step - loss: 3543076.7500 - root_mean_squared_error: 1882.3062 - mean_absolute_error: 1353.3390 - val_loss: 3582423.0000 - val_root_mean_squared_error: 1892.7290 - val_mean_absolute_error: 1361.2178\n",
            "Epoch 74/100\n",
            "54/54 [==============================] - 1s 17ms/step - loss: 3521135.2500 - root_mean_squared_error: 1876.4688 - mean_absolute_error: 1350.5387 - val_loss: 3558962.7500 - val_root_mean_squared_error: 1886.5214 - val_mean_absolute_error: 1358.2118\n",
            "Epoch 75/100\n",
            "54/54 [==============================] - 1s 15ms/step - loss: 3493739.0000 - root_mean_squared_error: 1869.1547 - mean_absolute_error: 1346.6443 - val_loss: 3535475.5000 - val_root_mean_squared_error: 1880.2860 - val_mean_absolute_error: 1355.3468\n",
            "Epoch 76/100\n",
            "54/54 [==============================] - 1s 11ms/step - loss: 3473868.2500 - root_mean_squared_error: 1863.8315 - mean_absolute_error: 1345.0482 - val_loss: 3513106.7500 - val_root_mean_squared_error: 1874.3282 - val_mean_absolute_error: 1352.7106\n",
            "Epoch 77/100\n",
            "54/54 [==============================] - 1s 11ms/step - loss: 3447752.5000 - root_mean_squared_error: 1856.8124 - mean_absolute_error: 1340.8048 - val_loss: 3491242.7500 - val_root_mean_squared_error: 1868.4867 - val_mean_absolute_error: 1350.1583\n",
            "Epoch 78/100\n",
            "54/54 [==============================] - 1s 11ms/step - loss: 3432869.7500 - root_mean_squared_error: 1852.8005 - mean_absolute_error: 1341.2344 - val_loss: 3470092.2500 - val_root_mean_squared_error: 1862.8184 - val_mean_absolute_error: 1347.6969\n",
            "Epoch 79/100\n",
            "54/54 [==============================] - 1s 11ms/step - loss: 3405355.0000 - root_mean_squared_error: 1845.3604 - mean_absolute_error: 1336.5282 - val_loss: 3449258.7500 - val_root_mean_squared_error: 1857.2180 - val_mean_absolute_error: 1345.3121\n",
            "Epoch 80/100\n",
            "54/54 [==============================] - 1s 11ms/step - loss: 3384938.0000 - root_mean_squared_error: 1839.8201 - mean_absolute_error: 1334.7206 - val_loss: 3429047.5000 - val_root_mean_squared_error: 1851.7688 - val_mean_absolute_error: 1343.0563\n",
            "Epoch 81/100\n",
            "54/54 [==============================] - 1s 11ms/step - loss: 3368816.2500 - root_mean_squared_error: 1835.4335 - mean_absolute_error: 1333.4915 - val_loss: 3409260.5000 - val_root_mean_squared_error: 1846.4182 - val_mean_absolute_error: 1340.9084\n",
            "Epoch 82/100\n",
            "54/54 [==============================] - 1s 11ms/step - loss: 3341063.2500 - root_mean_squared_error: 1827.8575 - mean_absolute_error: 1329.6173 - val_loss: 3390497.7500 - val_root_mean_squared_error: 1841.3304 - val_mean_absolute_error: 1338.8715\n",
            "Epoch 83/100\n",
            "54/54 [==============================] - 1s 11ms/step - loss: 3324342.5000 - root_mean_squared_error: 1823.2780 - mean_absolute_error: 1328.1283 - val_loss: 3371984.5000 - val_root_mean_squared_error: 1836.2964 - val_mean_absolute_error: 1336.8468\n",
            "Epoch 84/100\n",
            "54/54 [==============================] - 1s 12ms/step - loss: 3302242.7500 - root_mean_squared_error: 1817.2074 - mean_absolute_error: 1324.7776 - val_loss: 3353954.5000 - val_root_mean_squared_error: 1831.3805 - val_mean_absolute_error: 1334.9978\n",
            "Epoch 85/100\n",
            "54/54 [==============================] - 1s 11ms/step - loss: 3283869.5000 - root_mean_squared_error: 1812.1450 - mean_absolute_error: 1323.3838 - val_loss: 3336573.7500 - val_root_mean_squared_error: 1826.6290 - val_mean_absolute_error: 1333.2955\n",
            "Epoch 86/100\n",
            "54/54 [==============================] - 1s 11ms/step - loss: 3272658.7500 - root_mean_squared_error: 1809.0491 - mean_absolute_error: 1322.9283 - val_loss: 3320100.0000 - val_root_mean_squared_error: 1822.1141 - val_mean_absolute_error: 1331.7642\n",
            "Epoch 87/100\n",
            "54/54 [==============================] - 1s 11ms/step - loss: 3253059.2500 - root_mean_squared_error: 1803.6239 - mean_absolute_error: 1320.8589 - val_loss: 3303596.5000 - val_root_mean_squared_error: 1817.5798 - val_mean_absolute_error: 1330.3496\n",
            "Epoch 88/100\n",
            "54/54 [==============================] - 1s 11ms/step - loss: 3234585.7500 - root_mean_squared_error: 1798.4954 - mean_absolute_error: 1319.6810 - val_loss: 3288129.0000 - val_root_mean_squared_error: 1813.3198 - val_mean_absolute_error: 1329.1086\n",
            "Epoch 89/100\n",
            "54/54 [==============================] - 1s 11ms/step - loss: 3222878.7500 - root_mean_squared_error: 1795.2378 - mean_absolute_error: 1318.5463 - val_loss: 3272739.5000 - val_root_mean_squared_error: 1809.0714 - val_mean_absolute_error: 1327.9408\n",
            "Epoch 90/100\n",
            "54/54 [==============================] - 1s 11ms/step - loss: 3204625.0000 - root_mean_squared_error: 1790.1466 - mean_absolute_error: 1317.3257 - val_loss: 3258351.2500 - val_root_mean_squared_error: 1805.0903 - val_mean_absolute_error: 1326.9138\n",
            "Epoch 91/100\n",
            "54/54 [==============================] - 1s 11ms/step - loss: 3192073.0000 - root_mean_squared_error: 1786.6373 - mean_absolute_error: 1316.6226 - val_loss: 3244397.7500 - val_root_mean_squared_error: 1801.2212 - val_mean_absolute_error: 1326.0168\n",
            "Epoch 92/100\n",
            "54/54 [==============================] - 1s 15ms/step - loss: 3174500.5000 - root_mean_squared_error: 1781.7128 - mean_absolute_error: 1314.5953 - val_loss: 3230890.7500 - val_root_mean_squared_error: 1797.4679 - val_mean_absolute_error: 1325.2384\n",
            "Epoch 93/100\n",
            "54/54 [==============================] - 1s 15ms/step - loss: 3160133.7500 - root_mean_squared_error: 1777.6765 - mean_absolute_error: 1313.9102 - val_loss: 3217951.0000 - val_root_mean_squared_error: 1793.8647 - val_mean_absolute_error: 1324.5128\n",
            "Epoch 94/100\n",
            "54/54 [==============================] - 1s 16ms/step - loss: 3152538.2500 - root_mean_squared_error: 1775.5388 - mean_absolute_error: 1315.2744 - val_loss: 3204963.0000 - val_root_mean_squared_error: 1790.2411 - val_mean_absolute_error: 1323.8335\n",
            "Epoch 95/100\n",
            "54/54 [==============================] - 1s 16ms/step - loss: 3138155.0000 - root_mean_squared_error: 1771.4839 - mean_absolute_error: 1313.1356 - val_loss: 3192912.0000 - val_root_mean_squared_error: 1786.8721 - val_mean_absolute_error: 1323.3207\n",
            "Epoch 96/100\n",
            "54/54 [==============================] - 1s 12ms/step - loss: 3121044.2500 - root_mean_squared_error: 1766.6477 - mean_absolute_error: 1311.7111 - val_loss: 3181362.0000 - val_root_mean_squared_error: 1783.6372 - val_mean_absolute_error: 1322.8976\n",
            "Epoch 97/100\n",
            "54/54 [==============================] - 1s 11ms/step - loss: 3110659.5000 - root_mean_squared_error: 1763.7062 - mean_absolute_error: 1311.1897 - val_loss: 3170118.2500 - val_root_mean_squared_error: 1780.4825 - val_mean_absolute_error: 1322.5790\n",
            "Epoch 98/100\n",
            "54/54 [==============================] - 1s 11ms/step - loss: 3102641.0000 - root_mean_squared_error: 1761.4315 - mean_absolute_error: 1312.6472 - val_loss: 3159504.7500 - val_root_mean_squared_error: 1777.4995 - val_mean_absolute_error: 1322.3676\n",
            "Epoch 99/100\n",
            "54/54 [==============================] - 1s 11ms/step - loss: 3088442.2500 - root_mean_squared_error: 1757.3964 - mean_absolute_error: 1311.0490 - val_loss: 3149004.0000 - val_root_mean_squared_error: 1774.5433 - val_mean_absolute_error: 1322.2036\n",
            "Epoch 100/100\n",
            "54/54 [==============================] - 1s 11ms/step - loss: 3082031.0000 - root_mean_squared_error: 1755.5714 - mean_absolute_error: 1312.4899 - val_loss: 3139081.2500 - val_root_mean_squared_error: 1771.7452 - val_mean_absolute_error: 1322.0635\n"
          ]
        }
      ]
    },
    {
      "cell_type": "code",
      "source": [
        "print(history.history)"
      ],
      "metadata": {
        "colab": {
          "base_uri": "https://localhost:8080/"
        },
        "id": "EcjE9UKRmYpq",
        "outputId": "50bd6079-9128-497d-c67c-9420dbe10d7f"
      },
      "execution_count": null,
      "outputs": [
        {
          "output_type": "stream",
          "name": "stdout",
          "text": [
            "{'loss': [7567625.5, 7461084.5, 7365801.5, 7272813.0, 7182021.0, 7093124.0, 7004472.0, 6918388.5, 6833481.5, 6749697.0, 6668247.0, 6587106.5, 6506964.5, 6429792.0, 6352345.0, 6275781.5, 6201349.0, 6129362.0, 6054997.0, 5983318.0, 5917682.5, 5847399.5, 5780178.5, 5713486.0, 5648256.5, 5581929.5, 5519907.5, 5458354.0, 5395310.5, 5332729.5, 5270814.0, 5214025.0, 5152739.0, 5098452.0, 5040648.5, 4984979.0, 4929447.5, 4879410.0, 4827123.5, 4773434.0, 4723318.0, 4674466.5, 4624636.0, 4577799.5, 4532189.5, 4483917.0, 4440536.5, 4395558.5, 4353823.5, 4312444.5, 4265569.5, 4228312.0, 4186385.25, 4144873.0, 4109363.75, 4071135.25, 4031855.75, 4001007.0, 3961485.25, 3930554.25, 3896248.0, 3861596.5, 3830952.75, 3797907.25, 3768120.0, 3739937.5, 3708001.75, 3680785.75, 3654524.75, 3626725.5, 3600892.5, 3571189.0, 3543076.75, 3521135.25, 3493739.0, 3473868.25, 3447752.5, 3432869.75, 3405355.0, 3384938.0, 3368816.25, 3341063.25, 3324342.5, 3302242.75, 3283869.5, 3272658.75, 3253059.25, 3234585.75, 3222878.75, 3204625.0, 3192073.0, 3174500.5, 3160133.75, 3152538.25, 3138155.0, 3121044.25, 3110659.5, 3102641.0, 3088442.25, 3082031.0], 'root_mean_squared_error': [2750.931640625, 2731.49853515625, 2714.0009765625, 2696.815185546875, 2679.92919921875, 2663.2919921875, 2646.59619140625, 2630.282958984375, 2614.0927734375, 2598.017822265625, 2582.294921875, 2566.535888671875, 2550.875244140625, 2535.703369140625, 2520.3857421875, 2505.15087890625, 2490.250732421875, 2475.7548828125, 2460.690185546875, 2446.08203125, 2432.628662109375, 2418.1396484375, 2404.2001953125, 2390.289794921875, 2376.60595703125, 2362.610595703125, 2349.4482421875, 2336.31201171875, 2322.78076171875, 2309.270263671875, 2295.8251953125, 2283.424072265625, 2269.964599609375, 2257.97509765625, 2245.138916015625, 2232.70654296875, 2220.23583984375, 2208.938720703125, 2197.071533203125, 2184.819091796875, 2173.319580078125, 2162.051513671875, 2150.49658203125, 2139.579345703125, 2128.893798828125, 2117.526123046875, 2107.258056640625, 2096.55859375, 2086.581787109375, 2076.642578125, 2065.325439453125, 2056.285888671875, 2046.0657958984375, 2035.8961181640625, 2027.156494140625, 2017.7054443359375, 2007.9481201171875, 2000.251708984375, 1990.3480224609375, 1982.5625, 1973.8916015625, 1965.094482421875, 1957.281982421875, 1948.822021484375, 1941.1646728515625, 1933.8917236328125, 1925.6171875, 1918.537353515625, 1911.68115234375, 1904.3963623046875, 1897.601806640625, 1889.759033203125, 1882.30615234375, 1876.46875, 1869.1546630859375, 1863.83154296875, 1856.8123779296875, 1852.800537109375, 1845.3603515625, 1839.820068359375, 1835.4334716796875, 1827.8575439453125, 1823.2779541015625, 1817.2073974609375, 1812.14501953125, 1809.049072265625, 1803.6239013671875, 1798.495361328125, 1795.23779296875, 1790.1466064453125, 1786.6373291015625, 1781.7127685546875, 1777.676513671875, 1775.538818359375, 1771.48388671875, 1766.647705078125, 1763.7061767578125, 1761.4315185546875, 1757.3963623046875, 1755.5714111328125], 'mean_absolute_error': [2162.01123046875, 2137.198974609375, 2115.068115234375, 2093.47119140625, 2072.349365234375, 2051.66845703125, 2031.22607421875, 2011.647705078125, 1992.70947265625, 1974.0203857421875, 1955.8038330078125, 1937.880859375, 1920.3326416015625, 1903.073974609375, 1886.3138427734375, 1869.521240234375, 1853.5501708984375, 1837.8465576171875, 1821.9473876953125, 1806.7642822265625, 1792.1737060546875, 1777.16650390625, 1763.4404296875, 1749.0360107421875, 1735.5093994140625, 1721.25537109375, 1708.266357421875, 1695.6395263671875, 1682.8939208984375, 1670.8475341796875, 1657.6885986328125, 1646.272705078125, 1634.1256103515625, 1623.45166015625, 1612.618408203125, 1601.198974609375, 1589.8848876953125, 1580.918701171875, 1571.7161865234375, 1560.936767578125, 1551.71875, 1541.8065185546875, 1533.5628662109375, 1524.5731201171875, 1515.75244140625, 1506.9359130859375, 1499.6983642578125, 1491.32470703125, 1483.0059814453125, 1475.523193359375, 1468.1226806640625, 1460.7847900390625, 1454.24462890625, 1446.5894775390625, 1440.45849609375, 1434.7664794921875, 1426.693603515625, 1423.407958984375, 1415.973876953125, 1411.99951171875, 1404.7847900390625, 1399.5972900390625, 1395.34130859375, 1389.811767578125, 1386.01708984375, 1382.15380859375, 1377.376708984375, 1372.1387939453125, 1368.42578125, 1364.7205810546875, 1362.0657958984375, 1357.0546875, 1353.3389892578125, 1350.5386962890625, 1346.644287109375, 1345.0482177734375, 1340.8048095703125, 1341.234375, 1336.5281982421875, 1334.7205810546875, 1333.491455078125, 1329.6173095703125, 1328.1282958984375, 1324.777587890625, 1323.3837890625, 1322.9283447265625, 1320.85888671875, 1319.6810302734375, 1318.5462646484375, 1317.32568359375, 1316.62255859375, 1314.5953369140625, 1313.91015625, 1315.2744140625, 1313.1356201171875, 1311.7110595703125, 1311.189697265625, 1312.647216796875, 1311.0489501953125, 1312.4898681640625], 'val_loss': [7496246.0, 7400083.0, 7307464.0, 7216774.0, 7127924.5, 7040225.5, 6954019.0, 6869792.5, 6786409.0, 6704816.0, 6624704.5, 6545674.5, 6467490.0, 6390760.0, 6315362.0, 6241182.0, 6168113.5, 6096480.5, 6025401.5, 5955961.5, 5887720.0, 5820543.0, 5754394.0, 5689496.5, 5624924.5, 5561534.0, 5499458.5, 5438698.0, 5378744.5, 5318546.5, 5258689.0, 5200577.0, 5143862.0, 5087534.0, 5033031.5, 4978617.0, 4925995.0, 4873997.5, 4823182.5, 4773441.5, 4724240.5, 4676066.0, 4628579.5, 4581999.5, 4536260.0, 4491358.0, 4448055.5, 4405120.5, 4362645.5, 4321444.5, 4280993.0, 4241324.0, 4202471.0, 4164379.75, 4127244.75, 4090737.0, 4054842.75, 4019863.5, 3985878.75, 3952443.5, 3919905.5, 3888043.5, 3856785.25, 3826444.5, 3796747.25, 3767830.0, 3739110.75, 3711367.0, 3684393.25, 3657872.75, 3632218.25, 3606910.75, 3582423.0, 3558962.75, 3535475.5, 3513106.75, 3491242.75, 3470092.25, 3449258.75, 3429047.5, 3409260.5, 3390497.75, 3371984.5, 3353954.5, 3336573.75, 3320100.0, 3303596.5, 3288129.0, 3272739.5, 3258351.25, 3244397.75, 3230890.75, 3217951.0, 3204963.0, 3192912.0, 3181362.0, 3170118.25, 3159504.75, 3149004.0, 3139081.25], 'val_root_mean_squared_error': [2737.92724609375, 2720.309326171875, 2703.232177734375, 2686.4052734375, 2669.8173828125, 2653.34228515625, 2637.04736328125, 2621.02880859375, 2605.07373046875, 2589.365966796875, 2573.85009765625, 2558.45166015625, 2543.1259765625, 2527.9951171875, 2513.038330078125, 2498.23583984375, 2483.568603515625, 2469.105224609375, 2454.66943359375, 2440.48388671875, 2426.46240234375, 2412.580078125, 2398.831787109375, 2385.2666015625, 2371.6923828125, 2358.29052734375, 2345.092529296875, 2332.1015625, 2319.2119140625, 2306.197265625, 2293.18310546875, 2280.477294921875, 2268.00830078125, 2255.55615234375, 2243.44189453125, 2231.281494140625, 2219.458251953125, 2207.713134765625, 2196.174560546875, 2184.82080078125, 2173.53173828125, 2162.42138671875, 2151.413330078125, 2140.560546875, 2129.849609375, 2119.282470703125, 2109.04150390625, 2098.837890625, 2088.694580078125, 2078.808349609375, 2069.055908203125, 2059.447509765625, 2049.992919921875, 2040.68115234375, 2031.5621337890625, 2022.5570068359375, 2013.6639404296875, 2004.959716796875, 1996.466552734375, 1988.0753173828125, 1979.8751220703125, 1971.812255859375, 1963.8699951171875, 1956.1300048828125, 1948.5244140625, 1941.0899658203125, 1933.677978515625, 1926.4908447265625, 1919.477294921875, 1912.556640625, 1905.837890625, 1899.1868896484375, 1892.72900390625, 1886.5213623046875, 1880.2860107421875, 1874.3282470703125, 1868.4866943359375, 1862.818359375, 1857.218017578125, 1851.768798828125, 1846.418212890625, 1841.3304443359375, 1836.29638671875, 1831.3804931640625, 1826.6290283203125, 1822.1141357421875, 1817.579833984375, 1813.31982421875, 1809.0714111328125, 1805.09033203125, 1801.22119140625, 1797.4678955078125, 1793.86474609375, 1790.2410888671875, 1786.8720703125, 1783.63720703125, 1780.4825439453125, 1777.49951171875, 1774.5433349609375, 1771.7452392578125], 'val_mean_absolute_error': [2123.91845703125, 2101.393798828125, 2079.655029296875, 2058.462158203125, 2037.7691650390625, 2017.47265625, 1997.693603515625, 1978.5186767578125, 1959.7076416015625, 1941.392578125, 1923.43212890625, 1905.9063720703125, 1888.65185546875, 1871.7515869140625, 1855.23779296875, 1839.132568359375, 1823.344970703125, 1808.120849609375, 1793.0736083984375, 1778.534423828125, 1764.3536376953125, 1750.558349609375, 1737.0477294921875, 1723.9180908203125, 1710.9310302734375, 1698.2001953125, 1685.8040771484375, 1673.8026123046875, 1662.0430908203125, 1650.3350830078125, 1638.77294921875, 1627.63134765625, 1616.790283203125, 1606.031005859375, 1595.6356201171875, 1585.29150390625, 1575.335693359375, 1565.649169921875, 1556.38916015625, 1547.426513671875, 1538.7044677734375, 1530.2772216796875, 1522.0506591796875, 1514.1029052734375, 1506.32763671875, 1498.7440185546875, 1491.4747314453125, 1484.37548828125, 1477.457763671875, 1470.8294677734375, 1464.331298828125, 1457.943115234375, 1451.7081298828125, 1445.6295166015625, 1439.766845703125, 1434.0394287109375, 1428.471435546875, 1423.104736328125, 1417.868408203125, 1412.7650146484375, 1407.8582763671875, 1403.08349609375, 1398.4930419921875, 1394.1212158203125, 1389.90771484375, 1385.8619384765625, 1381.9322509765625, 1378.21826171875, 1374.6405029296875, 1371.109619140625, 1367.732666015625, 1364.4234619140625, 1361.2177734375, 1358.2117919921875, 1355.3468017578125, 1352.7105712890625, 1350.1583251953125, 1347.6968994140625, 1345.3121337890625, 1343.0562744140625, 1340.908447265625, 1338.8714599609375, 1336.8468017578125, 1334.997802734375, 1333.2955322265625, 1331.76416015625, 1330.349609375, 1329.108642578125, 1327.9407958984375, 1326.913818359375, 1326.016845703125, 1325.2384033203125, 1324.5128173828125, 1323.83349609375, 1323.3206787109375, 1322.8975830078125, 1322.5789794921875, 1322.3675537109375, 1322.20361328125, 1322.0634765625]}\n"
          ]
        }
      ]
    },
    {
      "cell_type": "code",
      "source": [],
      "metadata": {
        "id": "qXk6Ed-phHja"
      },
      "execution_count": null,
      "outputs": []
    },
    {
      "cell_type": "code",
      "source": [
        "root_mean_squared_error = history.history['root_mean_squared_error']\n",
        "mean_absolute_error = history.history['mean_absolute_error']\n",
        "val_loss = history.history['val_loss']\n",
        "val_root_mean_squared_error = history.history['val_root_mean_squared_error']\n",
        "val_mean_absolute_error = history.history['val_mean_absolute_error']"
      ],
      "metadata": {
        "id": "JZm417I9mfYS"
      },
      "execution_count": null,
      "outputs": []
    },
    {
      "cell_type": "code",
      "source": [
        "import matplotlib.pyplot as plt\n",
        "\n",
        "history = model.fit(x_train, y_train, validation_data=(x_test, y_test), callbacks=[es_callback], epochs=100, batch_size=32)\n",
        "\n",
        "val_loss = history.history['val_loss']\n",
        "val_rmse = history.history['val_root_mean_squared_error']\n",
        "val_mae = history.history['val_mean_absolute_error']\n",
        "loss = history.history['loss']\n",
        "rmse = history.history['root_mean_squared_error']\n",
        "mae = history.history['mean_absolute_error']\n",
        "\n",
        "epochs = range(1, len(val_loss) + 1)\n",
        "\n",
        "plt.plot(epochs, rmse, 'bo', label='Training RMSE')\n",
        "plt.plot(epochs, mae, 'b', label='Training MAE')\n",
        "plt.plot(epochs, val_rmse, 'ro', label='Validation RMSE')\n",
        "plt.plot(epochs, val_mae, 'r', label='Validation MAE')\n",
        "plt.title('Training and validation metrics')\n",
        "plt.legend()\n",
        "\n",
        "plt.figure()\n",
        "\n",
        "plt.plot(epochs, loss, 'bo', label='Training loss')\n",
        "plt.plot(epochs, val_loss, 'b', label='Validation loss')\n",
        "plt.title('Training and validation loss')\n",
        "plt.legend()\n",
        "\n",
        "plt.show()\n"
      ],
      "metadata": {
        "colab": {
          "base_uri": "https://localhost:8080/",
          "height": 1000
        },
        "id": "6p4mRgmsVGEw",
        "outputId": "68f4ad94-2112-4d21-8dd1-1ef5c57a4213"
      },
      "execution_count": null,
      "outputs": [
        {
          "output_type": "stream",
          "name": "stdout",
          "text": [
            "Epoch 1/100\n",
            "214/214 [==============================] - 2s 10ms/step - loss: 3051331.7500 - root_mean_squared_error: 1746.8062 - mean_absolute_error: 1310.3660 - val_loss: 3103920.0000 - val_root_mean_squared_error: 1761.7946 - val_mean_absolute_error: 1322.0319\n",
            "Epoch 2/100\n",
            "214/214 [==============================] - 3s 14ms/step - loss: 3020461.2500 - root_mean_squared_error: 1737.9474 - mean_absolute_error: 1312.9906 - val_loss: 3076046.2500 - val_root_mean_squared_error: 1753.8661 - val_mean_absolute_error: 1323.1147\n",
            "Epoch 3/100\n",
            "214/214 [==============================] - 3s 13ms/step - loss: 2993325.7500 - root_mean_squared_error: 1730.1230 - mean_absolute_error: 1312.4480 - val_loss: 3053297.0000 - val_root_mean_squared_error: 1747.3685 - val_mean_absolute_error: 1325.2715\n",
            "Epoch 4/100\n",
            "214/214 [==============================] - 2s 11ms/step - loss: 2970565.2500 - root_mean_squared_error: 1723.5327 - mean_absolute_error: 1314.9553 - val_loss: 3035234.5000 - val_root_mean_squared_error: 1742.1924 - val_mean_absolute_error: 1327.8140\n",
            "Epoch 5/100\n",
            "214/214 [==============================] - 3s 15ms/step - loss: 2954852.7500 - root_mean_squared_error: 1718.9685 - mean_absolute_error: 1317.7499 - val_loss: 3021101.5000 - val_root_mean_squared_error: 1738.1316 - val_mean_absolute_error: 1330.6943\n",
            "Epoch 6/100\n",
            "214/214 [==============================] - 2s 10ms/step - loss: 2950704.2500 - root_mean_squared_error: 1717.7614 - mean_absolute_error: 1322.3817 - val_loss: 3010508.0000 - val_root_mean_squared_error: 1735.0815 - val_mean_absolute_error: 1333.8853\n",
            "Epoch 7/100\n",
            "214/214 [==============================] - 2s 10ms/step - loss: 2928228.0000 - root_mean_squared_error: 1711.2065 - mean_absolute_error: 1323.1321 - val_loss: 3002339.5000 - val_root_mean_squared_error: 1732.7261 - val_mean_absolute_error: 1337.1919\n",
            "Epoch 8/100\n",
            "214/214 [==============================] - 2s 10ms/step - loss: 2923848.7500 - root_mean_squared_error: 1709.9265 - mean_absolute_error: 1325.9312 - val_loss: 2996696.5000 - val_root_mean_squared_error: 1731.0969 - val_mean_absolute_error: 1340.1915\n",
            "Epoch 9/100\n",
            "214/214 [==============================] - 2s 11ms/step - loss: 2920574.0000 - root_mean_squared_error: 1708.9686 - mean_absolute_error: 1329.5452 - val_loss: 2992617.0000 - val_root_mean_squared_error: 1729.9182 - val_mean_absolute_error: 1343.0831\n",
            "Epoch 10/100\n",
            "214/214 [==============================] - 3s 12ms/step - loss: 2909710.0000 - root_mean_squared_error: 1705.7872 - mean_absolute_error: 1330.1984 - val_loss: 2989694.5000 - val_root_mean_squared_error: 1729.0732 - val_mean_absolute_error: 1345.8508\n",
            "Epoch 11/100\n",
            "214/214 [==============================] - 3s 13ms/step - loss: 2911976.0000 - root_mean_squared_error: 1706.4513 - mean_absolute_error: 1334.0272 - val_loss: 2987842.2500 - val_root_mean_squared_error: 1728.5376 - val_mean_absolute_error: 1348.2584\n",
            "Epoch 12/100\n",
            "214/214 [==============================] - 2s 10ms/step - loss: 2904929.0000 - root_mean_squared_error: 1704.3853 - mean_absolute_error: 1335.0299 - val_loss: 2986622.5000 - val_root_mean_squared_error: 1728.1847 - val_mean_absolute_error: 1350.4797\n",
            "Epoch 13/100\n",
            "214/214 [==============================] - 2s 11ms/step - loss: 2903752.7500 - root_mean_squared_error: 1704.0402 - mean_absolute_error: 1337.0034 - val_loss: 2985902.7500 - val_root_mean_squared_error: 1727.9764 - val_mean_absolute_error: 1352.3812\n",
            "Epoch 14/100\n",
            "214/214 [==============================] - 2s 10ms/step - loss: 2904940.2500 - root_mean_squared_error: 1704.3885 - mean_absolute_error: 1338.4363 - val_loss: 2985529.2500 - val_root_mean_squared_error: 1727.8684 - val_mean_absolute_error: 1353.8662\n",
            "Epoch 15/100\n",
            "214/214 [==============================] - 2s 10ms/step - loss: 2897419.5000 - root_mean_squared_error: 1702.1808 - mean_absolute_error: 1339.2660 - val_loss: 2985314.2500 - val_root_mean_squared_error: 1727.8062 - val_mean_absolute_error: 1355.3615\n",
            "Epoch 16/100\n",
            "214/214 [==============================] - 3s 14ms/step - loss: 2901242.2500 - root_mean_squared_error: 1703.3033 - mean_absolute_error: 1340.8444 - val_loss: 2985261.0000 - val_root_mean_squared_error: 1727.7908 - val_mean_absolute_error: 1356.3252\n",
            "Epoch 17/100\n",
            "214/214 [==============================] - 2s 11ms/step - loss: 2898269.5000 - root_mean_squared_error: 1702.4304 - mean_absolute_error: 1339.7808 - val_loss: 2985264.2500 - val_root_mean_squared_error: 1727.7916 - val_mean_absolute_error: 1357.1144\n",
            "Epoch 18/100\n",
            "214/214 [==============================] - 2s 10ms/step - loss: 2895726.5000 - root_mean_squared_error: 1701.6833 - mean_absolute_error: 1340.8628 - val_loss: 2985305.0000 - val_root_mean_squared_error: 1727.8035 - val_mean_absolute_error: 1357.8682\n",
            "Epoch 19/100\n",
            "214/214 [==============================] - 2s 11ms/step - loss: 2900953.5000 - root_mean_squared_error: 1703.2185 - mean_absolute_error: 1343.6842 - val_loss: 2985378.0000 - val_root_mean_squared_error: 1727.8246 - val_mean_absolute_error: 1358.6030\n",
            "Epoch 20/100\n",
            "214/214 [==============================] - 2s 10ms/step - loss: 2905706.5000 - root_mean_squared_error: 1704.6133 - mean_absolute_error: 1344.4082 - val_loss: 2985411.0000 - val_root_mean_squared_error: 1727.8341 - val_mean_absolute_error: 1358.8661\n",
            "Epoch 21/100\n",
            "214/214 [==============================] - 2s 11ms/step - loss: 2908002.7500 - root_mean_squared_error: 1705.2867 - mean_absolute_error: 1345.6321 - val_loss: 2985439.0000 - val_root_mean_squared_error: 1727.8423 - val_mean_absolute_error: 1359.0621\n",
            "Epoch 22/100\n",
            "214/214 [==============================] - 3s 14ms/step - loss: 2900793.7500 - root_mean_squared_error: 1703.1716 - mean_absolute_error: 1344.3044 - val_loss: 2985491.5000 - val_root_mean_squared_error: 1727.8574 - val_mean_absolute_error: 1359.3993\n",
            "Epoch 23/100\n",
            "214/214 [==============================] - 2s 10ms/step - loss: 2895436.7500 - root_mean_squared_error: 1701.5983 - mean_absolute_error: 1343.4058 - val_loss: 2985516.0000 - val_root_mean_squared_error: 1727.8645 - val_mean_absolute_error: 1359.5424\n",
            "Epoch 24/100\n",
            "214/214 [==============================] - 2s 11ms/step - loss: 2901988.5000 - root_mean_squared_error: 1703.5223 - mean_absolute_error: 1343.7251 - val_loss: 2985553.5000 - val_root_mean_squared_error: 1727.8754 - val_mean_absolute_error: 1359.7477\n",
            "Epoch 25/100\n",
            "214/214 [==============================] - 2s 11ms/step - loss: 2900391.2500 - root_mean_squared_error: 1703.0535 - mean_absolute_error: 1342.9559 - val_loss: 2985555.0000 - val_root_mean_squared_error: 1727.8759 - val_mean_absolute_error: 1359.7609\n",
            "Epoch 26/100\n",
            "214/214 [==============================] - 2s 11ms/step - loss: 2896327.7500 - root_mean_squared_error: 1701.8601 - mean_absolute_error: 1343.6492 - val_loss: 2985602.0000 - val_root_mean_squared_error: 1727.8894 - val_mean_absolute_error: 1360.0007\n"
          ]
        },
        {
          "output_type": "display_data",
          "data": {
            "text/plain": [
              "<Figure size 640x480 with 1 Axes>"
            ],
            "image/png": "[encoded data removed]"
          },
          "metadata": {}
        },
        {
          "output_type": "display_data",
          "data": {
            "text/plain": [
              "<Figure size 640x480 with 1 Axes>"
            ],
            "image/png": "[encoded data removed]"
          },
          "metadata": {}
        }
      ]
    },
    {
      "cell_type": "code",
      "source": [
        "import matplotlib.pyplot as plt\n",
        "\n",
        "epochs = range(1, len(val_loss) + 1)\n",
        "\n",
        "plt.plot(epochs, root_mean_squared_error, 'bo', label='Training acc')\n",
        "plt.plot(epochs, mean_absolute_error, 'b', label='Validation acc')\n",
        "plt.title('Training and validation accuracy')\n",
        "plt.legend()\n",
        "\n",
        "plt.figure()\n",
        "\n",
        "plt.plot(epochs, val_root_mean_squared_error, 'bo', label='Training loss')\n",
        "plt.plot(epochs, val_mean_absolute_error, 'b', label='Validation loss')\n",
        "plt.title('Training and validation loss')\n",
        "plt.legend()\n",
        "\n",
        "plt.show()"
      ],
      "metadata": {
        "colab": {
          "base_uri": "https://localhost:8080/",
          "height": 887
        },
        "id": "Q4yvpLppmj6y",
        "outputId": "627a6071-ef70-405d-86fc-0f27e55be02b"
      },
      "execution_count": null,
      "outputs": [
        {
          "output_type": "display_data",
          "data": {
            "text/plain": [
              "<Figure size 640x480 with 1 Axes>"
            ],
            "image/png": "[encoded data removed]"
          },
          "metadata": {}
        },
        {
          "output_type": "display_data",
          "data": {
            "text/plain": [
              "<Figure size 640x480 with 1 Axes>"
            ],
            "image/png": "[encoded data removed]"
          },
          "metadata": {}
        }
      ]
    },
    {
      "cell_type": "markdown",
      "source": [
        "GRU"
      ],
      "metadata": {
        "id": "pArf5pICm-Lm"
      }
    },
    {
      "cell_type": "code",
      "source": [
        "import tensorflow as tf\n",
        "from keras.layers import Dropout\n",
        "from tensorflow.keras.layers import Dense\n",
        "from keras.layers import GRU\n",
        "from tensorflow.keras.metrics import RootMeanSquaredError, MeanAbsoluteError\n",
        "from tensorflow.keras.models import Sequential"
      ],
      "metadata": {
        "id": "1dQbCiAfnFjI"
      },
      "execution_count": null,
      "outputs": []
    },
    {
      "cell_type": "code",
      "source": [
        "def get_model(params, input_shape):\n",
        "\tmodel = Sequential()\n",
        "\tmodel.add(GRU(units=params[\"gru_units\"], return_sequences=True, input_shape=(input_shape, 1)))\n",
        "\tmodel.add(Dropout(rate=params[\"dropout\"]))\n",
        "\n",
        "\tmodel.add(GRU(units=params[\"gru_units\"], return_sequences=True))\n",
        "\tmodel.add(Dropout(rate=params[\"dropout\"]))\n",
        "\n",
        "\tmodel.add(GRU(units=params[\"gru_units\"], return_sequences=True))\n",
        "\tmodel.add(Dropout(rate=params[\"dropout\"]))\n",
        "\n",
        "\tmodel.add(GRU(units=params[\"gru_units\"], return_sequences=False))\n",
        "\tmodel.add(Dropout(rate=params[\"dropout\"]))\n",
        "\n",
        "\tmodel.add(Dense(1,activation = \"linear\"))\n",
        "\n",
        "\tmodel.compile(loss=params[\"loss\"],\n",
        "              \toptimizer=tf.keras.optimizers.Adam(\n",
        "    learning_rate=0.003),\n",
        "              \tmetrics=[RootMeanSquaredError(), MeanAbsoluteError()])\n",
        "\n",
        "\treturn model"
      ],
      "metadata": {
        "id": "R--DIN2cmmuJ"
      },
      "execution_count": null,
      "outputs": []
    },
    {
      "cell_type": "code",
      "source": [
        "params = {\n",
        "\t\"loss\": \"mean_squared_error\",\n",
        "\t\"optimizer\": \"adam\",\n",
        "\t\"dropout\": 0.2,\n",
        "\t\"gru_units\": 138,\n",
        "\t\"epochs\": 100,\n",
        "\t\"batch_size\": 128,\n",
        "\t\"es_patience\" : 10\n",
        "}\n",
        "\n",
        "model = get_model(params=params, input_shape=x_train.shape[1])"
      ],
      "metadata": {
        "id": "--1o49Q1nH9-"
      },
      "execution_count": null,
      "outputs": []
    },
    {
      "cell_type": "code",
      "source": [
        "es_callback = tf.keras.callbacks.EarlyStopping(monitor='val_root_mean_squared_error',\n",
        "                                           \tmode='min', \n",
        "patience=params[\"es_patience\"])"
      ],
      "metadata": {
        "id": "QCtyEd9enpam"
      },
      "execution_count": null,
      "outputs": []
    },
    {
      "cell_type": "code",
      "source": [
        "history = model.fit(\n",
        "\tx_train,\n",
        "\ty_train,\n",
        "\tvalidation_data=(x_test, y_test),\n",
        "\tepochs=params[\"epochs\"],\n",
        "\tbatch_size=params[\"batch_size\"],\n",
        "\tverbose=1, callbacks=[es_callback]\n",
        ")"
      ],
      "metadata": {
        "colab": {
          "base_uri": "https://localhost:8080/"
        },
        "id": "B8Hkq4uAnslh",
        "outputId": "c9369ff3-fc7d-4e1b-e1b3-0021f38161a3"
      },
      "execution_count": null,
      "outputs": [
        {
          "output_type": "stream",
          "name": "stdout",
          "text": [
            "Epoch 1/100\n",
            "54/54 [==============================] - 8s 30ms/step - loss: 7572720.0000 - root_mean_squared_error: 2751.8574 - mean_absolute_error: 2163.1714 - val_loss: 7502614.5000 - val_root_mean_squared_error: 2739.0901 - val_mean_absolute_error: 2125.4124\n",
            "Epoch 2/100\n",
            "54/54 [==============================] - 1s 10ms/step - loss: 7467352.5000 - root_mean_squared_error: 2732.6458 - mean_absolute_error: 2138.7759 - val_loss: 7405515.0000 - val_root_mean_squared_error: 2721.3076 - val_mean_absolute_error: 2102.6682\n",
            "Epoch 3/100\n",
            "54/54 [==============================] - 1s 10ms/step - loss: 7369513.5000 - root_mean_squared_error: 2714.6848 - mean_absolute_error: 2116.0867 - val_loss: 7310595.5000 - val_root_mean_squared_error: 2703.8113 - val_mean_absolute_error: 2080.3865\n",
            "Epoch 4/100\n",
            "54/54 [==============================] - 1s 11ms/step - loss: 7274737.5000 - root_mean_squared_error: 2697.1721 - mean_absolute_error: 2093.9133 - val_loss: 7218012.5000 - val_root_mean_squared_error: 2686.6357 - val_mean_absolute_error: 2058.7512\n",
            "Epoch 5/100\n",
            "54/54 [==============================] - 1s 10ms/step - loss: 7182291.0000 - root_mean_squared_error: 2679.9797 - mean_absolute_error: 2072.3669 - val_loss: 7127316.5000 - val_root_mean_squared_error: 2669.7034 - val_mean_absolute_error: 2037.6278\n",
            "Epoch 6/100\n",
            "54/54 [==============================] - 1s 11ms/step - loss: 7091443.5000 - root_mean_squared_error: 2662.9763 - mean_absolute_error: 2051.2000 - val_loss: 7038014.0000 - val_root_mean_squared_error: 2652.9255 - val_mean_absolute_error: 2016.9613\n",
            "Epoch 7/100\n",
            "54/54 [==============================] - 1s 14ms/step - loss: 7002023.0000 - root_mean_squared_error: 2646.1335 - mean_absolute_error: 2030.6482 - val_loss: 6950605.0000 - val_root_mean_squared_error: 2636.3999 - val_mean_absolute_error: 1996.9133\n",
            "Epoch 8/100\n",
            "54/54 [==============================] - 1s 15ms/step - loss: 6914785.5000 - root_mean_squared_error: 2629.5979 - mean_absolute_error: 2011.0439 - val_loss: 6864502.5000 - val_root_mean_squared_error: 2620.0195 - val_mean_absolute_error: 1977.3187\n",
            "Epoch 9/100\n",
            "54/54 [==============================] - 1s 15ms/step - loss: 6827531.5000 - root_mean_squared_error: 2612.9546 - mean_absolute_error: 1991.2175 - val_loss: 6780057.0000 - val_root_mean_squared_error: 2603.8542 - val_mean_absolute_error: 1958.2751\n",
            "Epoch 10/100\n",
            "54/54 [==============================] - 1s 15ms/step - loss: 6742782.5000 - root_mean_squared_error: 2596.6868 - mean_absolute_error: 1972.4304 - val_loss: 6697102.0000 - val_root_mean_squared_error: 2587.8760 - val_mean_absolute_error: 1939.6644\n",
            "Epoch 11/100\n",
            "54/54 [==============================] - 1s 10ms/step - loss: 6658352.0000 - root_mean_squared_error: 2580.3782 - mean_absolute_error: 1953.6835 - val_loss: 6614696.5000 - val_root_mean_squared_error: 2571.9053 - val_mean_absolute_error: 1921.2054\n",
            "Epoch 12/100\n",
            "54/54 [==============================] - 1s 10ms/step - loss: 6576546.0000 - root_mean_squared_error: 2564.4778 - mean_absolute_error: 1935.4664 - val_loss: 6534121.5000 - val_root_mean_squared_error: 2556.1926 - val_mean_absolute_error: 1903.3445\n",
            "Epoch 13/100\n",
            "54/54 [==============================] - 1s 10ms/step - loss: 6496732.5000 - root_mean_squared_error: 2548.8689 - mean_absolute_error: 1917.7950 - val_loss: 6454738.0000 - val_root_mean_squared_error: 2540.6177 - val_mean_absolute_error: 1885.8429\n",
            "Epoch 14/100\n",
            "54/54 [==============================] - 1s 9ms/step - loss: 6416537.5000 - root_mean_squared_error: 2533.0886 - mean_absolute_error: 1900.0101 - val_loss: 6376385.5000 - val_root_mean_squared_error: 2525.1506 - val_mean_absolute_error: 1868.5985\n",
            "Epoch 15/100\n",
            "54/54 [==============================] - 1s 10ms/step - loss: 6337101.5000 - root_mean_squared_error: 2517.3601 - mean_absolute_error: 1882.6802 - val_loss: 6299963.5000 - val_root_mean_squared_error: 2509.9727 - val_mean_absolute_error: 1851.8834\n",
            "Epoch 16/100\n",
            "54/54 [==============================] - 1s 9ms/step - loss: 6260723.5000 - root_mean_squared_error: 2502.1438 - mean_absolute_error: 1866.2819 - val_loss: 6224035.0000 - val_root_mean_squared_error: 2494.8015 - val_mean_absolute_error: 1835.4120\n",
            "Epoch 17/100\n",
            "54/54 [==============================] - 1s 10ms/step - loss: 6184280.5000 - root_mean_squared_error: 2486.8213 - mean_absolute_error: 1849.7308 - val_loss: 6149820.5000 - val_root_mean_squared_error: 2479.8831 - val_mean_absolute_error: 1819.4362\n",
            "Epoch 18/100\n",
            "54/54 [==============================] - 1s 10ms/step - loss: 6109536.0000 - root_mean_squared_error: 2471.7476 - mean_absolute_error: 1833.0446 - val_loss: 6076783.0000 - val_root_mean_squared_error: 2465.1130 - val_mean_absolute_error: 1803.9597\n",
            "Epoch 19/100\n",
            "54/54 [==============================] - 1s 10ms/step - loss: 6036458.5000 - root_mean_squared_error: 2456.9204 - mean_absolute_error: 1817.9567 - val_loss: 6004936.0000 - val_root_mean_squared_error: 2450.4971 - val_mean_absolute_error: 1788.7528\n",
            "Epoch 20/100\n",
            "54/54 [==============================] - 1s 10ms/step - loss: 5964712.0000 - root_mean_squared_error: 2442.2759 - mean_absolute_error: 1802.3844 - val_loss: 5934212.0000 - val_root_mean_squared_error: 2436.0237 - val_mean_absolute_error: 1774.0131\n",
            "Epoch 21/100\n",
            "54/54 [==============================] - 1s 10ms/step - loss: 5893282.0000 - root_mean_squared_error: 2427.6084 - mean_absolute_error: 1787.1583 - val_loss: 5865217.5000 - val_root_mean_squared_error: 2421.8210 - val_mean_absolute_error: 1759.7126\n",
            "Epoch 22/100\n",
            "54/54 [==============================] - 1s 10ms/step - loss: 5821908.0000 - root_mean_squared_error: 2412.8630 - mean_absolute_error: 1772.1473 - val_loss: 5796689.0000 - val_root_mean_squared_error: 2407.6313 - val_mean_absolute_error: 1745.6677\n",
            "Epoch 23/100\n",
            "54/54 [==============================] - 1s 10ms/step - loss: 5754800.5000 - root_mean_squared_error: 2398.9165 - mean_absolute_error: 1757.5746 - val_loss: 5729377.5000 - val_root_mean_squared_error: 2393.6118 - val_mean_absolute_error: 1731.9727\n",
            "Epoch 24/100\n",
            "54/54 [==============================] - 1s 10ms/step - loss: 5685597.5000 - root_mean_squared_error: 2384.4492 - mean_absolute_error: 1743.4309 - val_loss: 5663184.0000 - val_root_mean_squared_error: 2379.7444 - val_mean_absolute_error: 1718.6328\n",
            "Epoch 25/100\n",
            "54/54 [==============================] - 1s 10ms/step - loss: 5619903.0000 - root_mean_squared_error: 2370.6335 - mean_absolute_error: 1729.4706 - val_loss: 5598314.0000 - val_root_mean_squared_error: 2366.0757 - val_mean_absolute_error: 1705.5826\n",
            "Epoch 26/100\n",
            "54/54 [==============================] - 1s 10ms/step - loss: 5553212.5000 - root_mean_squared_error: 2356.5254 - mean_absolute_error: 1715.7660 - val_loss: 5534256.5000 - val_root_mean_squared_error: 2352.5000 - val_mean_absolute_error: 1692.7443\n",
            "Epoch 27/100\n",
            "54/54 [==============================] - 1s 10ms/step - loss: 5488878.5000 - root_mean_squared_error: 2342.8354 - mean_absolute_error: 1701.9860 - val_loss: 5471222.5000 - val_root_mean_squared_error: 2339.0645 - val_mean_absolute_error: 1680.2178\n",
            "Epoch 28/100\n",
            "54/54 [==============================] - 1s 10ms/step - loss: 5427547.5000 - root_mean_squared_error: 2329.7097 - mean_absolute_error: 1689.4846 - val_loss: 5409624.0000 - val_root_mean_squared_error: 2325.8599 - val_mean_absolute_error: 1668.0850\n",
            "Epoch 29/100\n",
            "54/54 [==============================] - 1s 12ms/step - loss: 5363371.0000 - root_mean_squared_error: 2315.8953 - mean_absolute_error: 1676.6437 - val_loss: 5348651.0000 - val_root_mean_squared_error: 2312.7151 - val_mean_absolute_error: 1656.1869\n",
            "Epoch 30/100\n",
            "54/54 [==============================] - 1s 15ms/step - loss: 5302149.5000 - root_mean_squared_error: 2302.6396 - mean_absolute_error: 1664.2222 - val_loss: 5288782.0000 - val_root_mean_squared_error: 2299.7351 - val_mean_absolute_error: 1644.5651\n",
            "Epoch 31/100\n",
            "54/54 [==============================] - 1s 15ms/step - loss: 5246118.0000 - root_mean_squared_error: 2290.4404 - mean_absolute_error: 1652.7007 - val_loss: 5230579.5000 - val_root_mean_squared_error: 2287.0461 - val_mean_absolute_error: 1633.3856\n",
            "Epoch 32/100\n",
            "54/54 [==============================] - 1s 15ms/step - loss: 5183231.0000 - root_mean_squared_error: 2276.6709 - mean_absolute_error: 1639.6652 - val_loss: 5172698.5000 - val_root_mean_squared_error: 2274.3567 - val_mean_absolute_error: 1622.3101\n",
            "Epoch 33/100\n",
            "54/54 [==============================] - 1s 14ms/step - loss: 5126354.0000 - root_mean_squared_error: 2264.1453 - mean_absolute_error: 1628.8063 - val_loss: 5116377.0000 - val_root_mean_squared_error: 2261.9409 - val_mean_absolute_error: 1611.5332\n",
            "Epoch 34/100\n",
            "54/54 [==============================] - 1s 10ms/step - loss: 5070572.5000 - root_mean_squared_error: 2251.7932 - mean_absolute_error: 1618.4437 - val_loss: 5060279.5000 - val_root_mean_squared_error: 2249.5063 - val_mean_absolute_error: 1600.8312\n",
            "Epoch 35/100\n",
            "54/54 [==============================] - 1s 10ms/step - loss: 5012023.0000 - root_mean_squared_error: 2238.7546 - mean_absolute_error: 1606.5797 - val_loss: 5005721.5000 - val_root_mean_squared_error: 2237.3469 - val_mean_absolute_error: 1590.4364\n",
            "Epoch 36/100\n",
            "54/54 [==============================] - 1s 10ms/step - loss: 4963244.0000 - root_mean_squared_error: 2227.8340 - mean_absolute_error: 1597.2118 - val_loss: 4952327.0000 - val_root_mean_squared_error: 2225.3823 - val_mean_absolute_error: 1580.3047\n",
            "Epoch 37/100\n",
            "54/54 [==============================] - 1s 11ms/step - loss: 4904801.5000 - root_mean_squared_error: 2214.6787 - mean_absolute_error: 1586.2247 - val_loss: 4899359.5000 - val_root_mean_squared_error: 2213.4497 - val_mean_absolute_error: 1570.3528\n",
            "Epoch 38/100\n",
            "54/54 [==============================] - 1s 10ms/step - loss: 4855225.5000 - root_mean_squared_error: 2203.4575 - mean_absolute_error: 1576.4098 - val_loss: 4847366.5000 - val_root_mean_squared_error: 2201.6736 - val_mean_absolute_error: 1560.7847\n",
            "Epoch 39/100\n",
            "54/54 [==============================] - 1s 10ms/step - loss: 4801499.0000 - root_mean_squared_error: 2191.2322 - mean_absolute_error: 1566.3866 - val_loss: 4796627.5000 - val_root_mean_squared_error: 2190.1204 - val_mean_absolute_error: 1551.5819\n",
            "Epoch 40/100\n",
            "54/54 [==============================] - 1s 10ms/step - loss: 4750321.0000 - root_mean_squared_error: 2179.5232 - mean_absolute_error: 1556.8625 - val_loss: 4747031.5000 - val_root_mean_squared_error: 2178.7683 - val_mean_absolute_error: 1542.7224\n",
            "Epoch 41/100\n",
            "54/54 [==============================] - 1s 9ms/step - loss: 4696876.0000 - root_mean_squared_error: 2167.2278 - mean_absolute_error: 1547.2710 - val_loss: 4697373.5000 - val_root_mean_squared_error: 2167.3425 - val_mean_absolute_error: 1533.9879\n",
            "Epoch 42/100\n",
            "54/54 [==============================] - 1s 10ms/step - loss: 4650822.0000 - root_mean_squared_error: 2156.5764 - mean_absolute_error: 1538.2587 - val_loss: 4649362.0000 - val_root_mean_squared_error: 2156.2380 - val_mean_absolute_error: 1525.6292\n",
            "Epoch 43/100\n",
            "54/54 [==============================] - 1s 10ms/step - loss: 4599705.0000 - root_mean_squared_error: 2144.6921 - mean_absolute_error: 1528.1781 - val_loss: 4602458.5000 - val_root_mean_squared_error: 2145.3340 - val_mean_absolute_error: 1517.5790\n",
            "Epoch 44/100\n",
            "54/54 [==============================] - 1s 10ms/step - loss: 4550411.5000 - root_mean_squared_error: 2133.1694 - mean_absolute_error: 1519.8190 - val_loss: 4555893.0000 - val_root_mean_squared_error: 2134.4539 - val_mean_absolute_error: 1509.6664\n",
            "Epoch 45/100\n",
            "54/54 [==============================] - 1s 10ms/step - loss: 4503341.0000 - root_mean_squared_error: 2122.1077 - mean_absolute_error: 1510.9702 - val_loss: 4510492.0000 - val_root_mean_squared_error: 2123.7920 - val_mean_absolute_error: 1501.9648\n",
            "Epoch 46/100\n",
            "54/54 [==============================] - 1s 10ms/step - loss: 4456217.5000 - root_mean_squared_error: 2110.9756 - mean_absolute_error: 1502.2671 - val_loss: 4465221.0000 - val_root_mean_squared_error: 2113.1069 - val_mean_absolute_error: 1494.3499\n",
            "Epoch 47/100\n",
            "54/54 [==============================] - 1s 10ms/step - loss: 4415129.0000 - root_mean_squared_error: 2101.2207 - mean_absolute_error: 1494.1584 - val_loss: 4422126.5000 - val_root_mean_squared_error: 2102.8853 - val_mean_absolute_error: 1487.1808\n",
            "Epoch 48/100\n",
            "54/54 [==============================] - 1s 10ms/step - loss: 4369196.5000 - root_mean_squared_error: 2090.2622 - mean_absolute_error: 1485.9025 - val_loss: 4379560.5000 - val_root_mean_squared_error: 2092.7400 - val_mean_absolute_error: 1480.2046\n",
            "Epoch 49/100\n",
            "54/54 [==============================] - 1s 10ms/step - loss: 4321351.0000 - root_mean_squared_error: 2078.7859 - mean_absolute_error: 1477.4412 - val_loss: 4337272.5000 - val_root_mean_squared_error: 2082.6118 - val_mean_absolute_error: 1473.3632\n",
            "Epoch 50/100\n",
            "54/54 [==============================] - 1s 10ms/step - loss: 4283163.0000 - root_mean_squared_error: 2069.5803 - mean_absolute_error: 1471.7593 - val_loss: 4295736.0000 - val_root_mean_squared_error: 2072.6157 - val_mean_absolute_error: 1466.7051\n",
            "Epoch 51/100\n",
            "54/54 [==============================] - 1s 10ms/step - loss: 4240953.0000 - root_mean_squared_error: 2059.3574 - mean_absolute_error: 1463.7089 - val_loss: 4255852.5000 - val_root_mean_squared_error: 2062.9717 - val_mean_absolute_error: 1460.2721\n",
            "Epoch 52/100\n",
            "54/54 [==============================] - 1s 14ms/step - loss: 4201933.5000 - root_mean_squared_error: 2049.8618 - mean_absolute_error: 1456.9465 - val_loss: 4216268.5000 - val_root_mean_squared_error: 2053.3555 - val_mean_absolute_error: 1453.9170\n",
            "Epoch 53/100\n",
            "54/54 [==============================] - 1s 15ms/step - loss: 4160557.7500 - root_mean_squared_error: 2039.7445 - mean_absolute_error: 1449.5082 - val_loss: 4177294.2500 - val_root_mean_squared_error: 2043.8430 - val_mean_absolute_error: 1447.6782\n",
            "Epoch 54/100\n",
            "54/54 [==============================] - 1s 15ms/step - loss: 4125304.5000 - root_mean_squared_error: 2031.0846 - mean_absolute_error: 1443.8666 - val_loss: 4139408.0000 - val_root_mean_squared_error: 2034.5535 - val_mean_absolute_error: 1441.6824\n",
            "Epoch 55/100\n",
            "54/54 [==============================] - 1s 14ms/step - loss: 4084573.2500 - root_mean_squared_error: 2021.0327 - mean_absolute_error: 1436.9957 - val_loss: 4102332.5000 - val_root_mean_squared_error: 2025.4215 - val_mean_absolute_error: 1435.8480\n",
            "Epoch 56/100\n",
            "54/54 [==============================] - 1s 12ms/step - loss: 4048494.2500 - root_mean_squared_error: 2012.0870 - mean_absolute_error: 1430.8846 - val_loss: 4066047.7500 - val_root_mean_squared_error: 2016.4443 - val_mean_absolute_error: 1430.1881\n",
            "Epoch 57/100\n",
            "54/54 [==============================] - 1s 10ms/step - loss: 4011968.2500 - root_mean_squared_error: 2002.9899 - mean_absolute_error: 1424.1715 - val_loss: 4030440.0000 - val_root_mean_squared_error: 2007.5956 - val_mean_absolute_error: 1424.7297\n",
            "Epoch 58/100\n",
            "54/54 [==============================] - 1s 10ms/step - loss: 3969587.7500 - root_mean_squared_error: 1992.3824 - mean_absolute_error: 1417.3667 - val_loss: 3995435.7500 - val_root_mean_squared_error: 1998.8586 - val_mean_absolute_error: 1419.3341\n",
            "Epoch 59/100\n",
            "54/54 [==============================] - 1s 10ms/step - loss: 3934074.0000 - root_mean_squared_error: 1983.4500 - mean_absolute_error: 1411.8666 - val_loss: 3961233.5000 - val_root_mean_squared_error: 1990.2848 - val_mean_absolute_error: 1414.0994\n",
            "Epoch 60/100\n",
            "54/54 [==============================] - 1s 10ms/step - loss: 3907617.0000 - root_mean_squared_error: 1976.7693 - mean_absolute_error: 1408.0392 - val_loss: 3927710.0000 - val_root_mean_squared_error: 1981.8451 - val_mean_absolute_error: 1409.0278\n",
            "Epoch 61/100\n",
            "54/54 [==============================] - 1s 10ms/step - loss: 3870644.0000 - root_mean_squared_error: 1967.3953 - mean_absolute_error: 1401.4078 - val_loss: 3895357.5000 - val_root_mean_squared_error: 1973.6660 - val_mean_absolute_error: 1404.1796\n",
            "Epoch 62/100\n",
            "54/54 [==============================] - 1s 10ms/step - loss: 3835386.5000 - root_mean_squared_error: 1958.4143 - mean_absolute_error: 1395.8306 - val_loss: 3863289.5000 - val_root_mean_squared_error: 1965.5253 - val_mean_absolute_error: 1399.4407\n",
            "Epoch 63/100\n",
            "54/54 [==============================] - 1s 10ms/step - loss: 3797303.2500 - root_mean_squared_error: 1948.6670 - mean_absolute_error: 1390.3390 - val_loss: 3832175.5000 - val_root_mean_squared_error: 1957.5944 - val_mean_absolute_error: 1394.9408\n",
            "Epoch 64/100\n",
            "54/54 [==============================] - 1s 10ms/step - loss: 3769861.2500 - root_mean_squared_error: 1941.6130 - mean_absolute_error: 1385.6510 - val_loss: 3801872.7500 - val_root_mean_squared_error: 1949.8391 - val_mean_absolute_error: 1390.6296\n",
            "Epoch 65/100\n",
            "54/54 [==============================] - 1s 10ms/step - loss: 3741531.0000 - root_mean_squared_error: 1934.3037 - mean_absolute_error: 1381.3969 - val_loss: 3772542.7500 - val_root_mean_squared_error: 1942.3035 - val_mean_absolute_error: 1386.5172\n",
            "Epoch 66/100\n",
            "54/54 [==============================] - 1s 10ms/step - loss: 3710422.7500 - root_mean_squared_error: 1926.2457 - mean_absolute_error: 1377.5177 - val_loss: 3743685.0000 - val_root_mean_squared_error: 1934.8605 - val_mean_absolute_error: 1382.5524\n",
            "Epoch 67/100\n",
            "54/54 [==============================] - 1s 10ms/step - loss: 3680668.5000 - root_mean_squared_error: 1918.5068 - mean_absolute_error: 1372.7510 - val_loss: 3715835.7500 - val_root_mean_squared_error: 1927.6503 - val_mean_absolute_error: 1378.8138\n",
            "Epoch 68/100\n",
            "54/54 [==============================] - 1s 10ms/step - loss: 3654264.2500 - root_mean_squared_error: 1911.6130 - mean_absolute_error: 1368.9750 - val_loss: 3688178.5000 - val_root_mean_squared_error: 1920.4630 - val_mean_absolute_error: 1375.1415\n",
            "Epoch 69/100\n",
            "54/54 [==============================] - 1s 10ms/step - loss: 3629563.7500 - root_mean_squared_error: 1905.1414 - mean_absolute_error: 1365.6416 - val_loss: 3661078.0000 - val_root_mean_squared_error: 1913.3944 - val_mean_absolute_error: 1371.5361\n",
            "Epoch 70/100\n",
            "54/54 [==============================] - 1s 10ms/step - loss: 3601438.2500 - root_mean_squared_error: 1897.7456 - mean_absolute_error: 1360.9562 - val_loss: 3634779.2500 - val_root_mean_squared_error: 1906.5098 - val_mean_absolute_error: 1368.0701\n",
            "Epoch 71/100\n",
            "54/54 [==============================] - 1s 10ms/step - loss: 3574506.2500 - root_mean_squared_error: 1890.6365 - mean_absolute_error: 1357.7352 - val_loss: 3609578.2500 - val_root_mean_squared_error: 1899.8889 - val_mean_absolute_error: 1364.7721\n",
            "Epoch 72/100\n",
            "54/54 [==============================] - 1s 10ms/step - loss: 3551003.7500 - root_mean_squared_error: 1884.4106 - mean_absolute_error: 1354.9371 - val_loss: 3584472.5000 - val_root_mean_squared_error: 1893.2703 - val_mean_absolute_error: 1361.4866\n",
            "Epoch 73/100\n",
            "54/54 [==============================] - 1s 10ms/step - loss: 3517180.2500 - root_mean_squared_error: 1875.4147 - mean_absolute_error: 1349.9791 - val_loss: 3560680.7500 - val_root_mean_squared_error: 1886.9766 - val_mean_absolute_error: 1358.4286\n",
            "Epoch 74/100\n",
            "54/54 [==============================] - 1s 13ms/step - loss: 3496086.0000 - root_mean_squared_error: 1869.7823 - mean_absolute_error: 1346.6904 - val_loss: 3537142.2500 - val_root_mean_squared_error: 1880.7292 - val_mean_absolute_error: 1355.5435\n",
            "Epoch 75/100\n",
            "54/54 [==============================] - 1s 15ms/step - loss: 3473990.7500 - root_mean_squared_error: 1863.8644 - mean_absolute_error: 1344.7656 - val_loss: 3514091.5000 - val_root_mean_squared_error: 1874.5909 - val_mean_absolute_error: 1352.8273\n",
            "Epoch 76/100\n",
            "54/54 [==============================] - 1s 14ms/step - loss: 3453605.5000 - root_mean_squared_error: 1858.3878 - mean_absolute_error: 1343.0632 - val_loss: 3491842.7500 - val_root_mean_squared_error: 1868.6473 - val_mean_absolute_error: 1350.2284\n",
            "Epoch 77/100\n",
            "54/54 [==============================] - 1s 15ms/step - loss: 3427628.2500 - root_mean_squared_error: 1851.3855 - mean_absolute_error: 1339.0269 - val_loss: 3470311.2500 - val_root_mean_squared_error: 1862.8772 - val_mean_absolute_error: 1347.7224\n",
            "Epoch 78/100\n",
            "54/54 [==============================] - 1s 13ms/step - loss: 3405721.2500 - root_mean_squared_error: 1845.4596 - mean_absolute_error: 1337.4292 - val_loss: 3449406.0000 - val_root_mean_squared_error: 1857.2577 - val_mean_absolute_error: 1345.3287\n",
            "Epoch 79/100\n",
            "54/54 [==============================] - 1s 10ms/step - loss: 3383947.7500 - root_mean_squared_error: 1839.5509 - mean_absolute_error: 1333.6636 - val_loss: 3429059.2500 - val_root_mean_squared_error: 1851.7720 - val_mean_absolute_error: 1343.0575\n",
            "Epoch 80/100\n",
            "54/54 [==============================] - 1s 10ms/step - loss: 3365408.7500 - root_mean_squared_error: 1834.5050 - mean_absolute_error: 1332.5707 - val_loss: 3409301.2500 - val_root_mean_squared_error: 1846.4293 - val_mean_absolute_error: 1340.9130\n",
            "Epoch 81/100\n",
            "54/54 [==============================] - 1s 10ms/step - loss: 3339504.2500 - root_mean_squared_error: 1827.4310 - mean_absolute_error: 1328.9490 - val_loss: 3389993.5000 - val_root_mean_squared_error: 1841.1935 - val_mean_absolute_error: 1338.8160\n",
            "Epoch 82/100\n",
            "54/54 [==============================] - 1s 11ms/step - loss: 3327459.0000 - root_mean_squared_error: 1824.1324 - mean_absolute_error: 1328.6849 - val_loss: 3371438.5000 - val_root_mean_squared_error: 1836.1477 - val_mean_absolute_error: 1336.7887\n",
            "Epoch 83/100\n",
            "54/54 [==============================] - 1s 11ms/step - loss: 3308475.0000 - root_mean_squared_error: 1818.9214 - mean_absolute_error: 1326.5089 - val_loss: 3353599.7500 - val_root_mean_squared_error: 1831.2836 - val_mean_absolute_error: 1334.9623\n",
            "Epoch 84/100\n",
            "54/54 [==============================] - 1s 11ms/step - loss: 3287433.5000 - root_mean_squared_error: 1813.1281 - mean_absolute_error: 1323.7291 - val_loss: 3336317.7500 - val_root_mean_squared_error: 1826.5590 - val_mean_absolute_error: 1333.2703\n",
            "Epoch 85/100\n",
            "54/54 [==============================] - 1s 10ms/step - loss: 3271496.5000 - root_mean_squared_error: 1808.7279 - mean_absolute_error: 1323.0060 - val_loss: 3319003.2500 - val_root_mean_squared_error: 1821.8131 - val_mean_absolute_error: 1331.6664\n",
            "Epoch 86/100\n",
            "54/54 [==============================] - 1s 10ms/step - loss: 3251210.7500 - root_mean_squared_error: 1803.1113 - mean_absolute_error: 1321.1462 - val_loss: 3303101.2500 - val_root_mean_squared_error: 1817.4436 - val_mean_absolute_error: 1330.3092\n",
            "Epoch 87/100\n",
            "54/54 [==============================] - 1s 10ms/step - loss: 3231647.7500 - root_mean_squared_error: 1797.6785 - mean_absolute_error: 1319.4471 - val_loss: 3287391.7500 - val_root_mean_squared_error: 1813.1166 - val_mean_absolute_error: 1329.0513\n",
            "Epoch 88/100\n",
            "54/54 [==============================] - 1s 10ms/step - loss: 3223641.2500 - root_mean_squared_error: 1795.4501 - mean_absolute_error: 1319.2494 - val_loss: 3272246.5000 - val_root_mean_squared_error: 1808.9352 - val_mean_absolute_error: 1327.9043\n",
            "Epoch 89/100\n",
            "54/54 [==============================] - 1s 10ms/step - loss: 3204602.2500 - root_mean_squared_error: 1790.1403 - mean_absolute_error: 1317.7743 - val_loss: 3257196.0000 - val_root_mean_squared_error: 1804.7703 - val_mean_absolute_error: 1326.8337\n",
            "Epoch 90/100\n",
            "54/54 [==============================] - 1s 10ms/step - loss: 3181119.7500 - root_mean_squared_error: 1783.5693 - mean_absolute_error: 1313.5309 - val_loss: 3243015.7500 - val_root_mean_squared_error: 1800.8375 - val_mean_absolute_error: 1325.9337\n",
            "Epoch 91/100\n",
            "54/54 [==============================] - 1s 11ms/step - loss: 3169402.0000 - root_mean_squared_error: 1780.2814 - mean_absolute_error: 1314.3794 - val_loss: 3229526.0000 - val_root_mean_squared_error: 1797.0881 - val_mean_absolute_error: 1325.1613\n",
            "Epoch 92/100\n",
            "54/54 [==============================] - 1s 10ms/step - loss: 3160945.7500 - root_mean_squared_error: 1777.9049 - mean_absolute_error: 1314.4902 - val_loss: 3216161.0000 - val_root_mean_squared_error: 1793.3658 - val_mean_absolute_error: 1324.4155\n",
            "Epoch 93/100\n",
            "54/54 [==============================] - 1s 10ms/step - loss: 3148137.5000 - root_mean_squared_error: 1774.2991 - mean_absolute_error: 1313.8167 - val_loss: 3203640.2500 - val_root_mean_squared_error: 1789.8716 - val_mean_absolute_error: 1323.7728\n",
            "Epoch 94/100\n",
            "54/54 [==============================] - 1s 10ms/step - loss: 3140682.7500 - root_mean_squared_error: 1772.1971 - mean_absolute_error: 1315.1136 - val_loss: 3191537.7500 - val_root_mean_squared_error: 1786.4875 - val_mean_absolute_error: 1323.2666\n",
            "Epoch 95/100\n",
            "54/54 [==============================] - 1s 10ms/step - loss: 3127319.7500 - root_mean_squared_error: 1768.4230 - mean_absolute_error: 1313.8992 - val_loss: 3179632.0000 - val_root_mean_squared_error: 1783.1522 - val_mean_absolute_error: 1322.8431\n",
            "Epoch 96/100\n",
            "54/54 [==============================] - 1s 14ms/step - loss: 3107586.0000 - root_mean_squared_error: 1762.8347 - mean_absolute_error: 1311.1226 - val_loss: 3168658.5000 - val_root_mean_squared_error: 1780.0726 - val_mean_absolute_error: 1322.5480\n",
            "Epoch 97/100\n",
            "54/54 [==============================] - 1s 14ms/step - loss: 3097483.7500 - root_mean_squared_error: 1759.9669 - mean_absolute_error: 1311.4263 - val_loss: 3157610.5000 - val_root_mean_squared_error: 1776.9667 - val_mean_absolute_error: 1322.3370\n",
            "Epoch 98/100\n",
            "54/54 [==============================] - 1s 15ms/step - loss: 3087464.2500 - root_mean_squared_error: 1757.1182 - mean_absolute_error: 1311.6782 - val_loss: 3147362.7500 - val_root_mean_squared_error: 1774.0808 - val_mean_absolute_error: 1322.1785\n",
            "Epoch 99/100\n",
            "54/54 [==============================] - 1s 15ms/step - loss: 3068645.5000 - root_mean_squared_error: 1751.7549 - mean_absolute_error: 1308.2074 - val_loss: 3137441.0000 - val_root_mean_squared_error: 1771.2823 - val_mean_absolute_error: 1322.0426\n",
            "Epoch 100/100\n",
            "54/54 [==============================] - 1s 13ms/step - loss: 3062556.2500 - root_mean_squared_error: 1750.0160 - mean_absolute_error: 1310.6757 - val_loss: 3128249.0000 - val_root_mean_squared_error: 1768.6857 - val_mean_absolute_error: 1321.9683\n"
          ]
        }
      ]
    },
    {
      "cell_type": "code",
      "source": [
        "history = model.fit(x_train, y_train, validation_data=(x_test, y_test), callbacks=[es_callback], epochs=100, batch_size=32)\n"
      ],
      "metadata": {
        "colab": {
          "base_uri": "https://localhost:8080/"
        },
        "id": "EOniLwJMpYs2",
        "outputId": "1966df2c-8274-4e29-f42c-5bad3ca5839d"
      },
      "execution_count": null,
      "outputs": [
        {
          "output_type": "stream",
          "name": "stdout",
          "text": [
            "Epoch 1/100\n",
            "214/214 [==============================] - 2s 9ms/step - loss: 3036982.7500 - root_mean_squared_error: 1742.6941 - mean_absolute_error: 1309.1838 - val_loss: 3094697.5000 - val_root_mean_squared_error: 1759.1752 - val_mean_absolute_error: 1322.1995\n",
            "Epoch 2/100\n",
            "214/214 [==============================] - 2s 9ms/step - loss: 3009648.0000 - root_mean_squared_error: 1734.8337 - mean_absolute_error: 1311.6404 - val_loss: 3067170.2500 - val_root_mean_squared_error: 1751.3339 - val_mean_absolute_error: 1323.8237\n",
            "Epoch 3/100\n",
            "214/214 [==============================] - 2s 9ms/step - loss: 2985092.7500 - root_mean_squared_error: 1727.7421 - mean_absolute_error: 1313.2196 - val_loss: 3046288.2500 - val_root_mean_squared_error: 1745.3619 - val_mean_absolute_error: 1326.1512\n",
            "Epoch 4/100\n",
            "214/214 [==============================] - 2s 10ms/step - loss: 2962593.0000 - root_mean_squared_error: 1721.2184 - mean_absolute_error: 1314.3103 - val_loss: 3029467.5000 - val_root_mean_squared_error: 1740.5365 - val_mean_absolute_error: 1328.8674\n",
            "Epoch 5/100\n",
            "214/214 [==============================] - 3s 12ms/step - loss: 2948829.0000 - root_mean_squared_error: 1717.2155 - mean_absolute_error: 1319.4034 - val_loss: 3016712.7500 - val_root_mean_squared_error: 1736.8687 - val_mean_absolute_error: 1331.8983\n",
            "Epoch 6/100\n",
            "214/214 [==============================] - 3s 12ms/step - loss: 2936858.5000 - root_mean_squared_error: 1713.7264 - mean_absolute_error: 1321.4667 - val_loss: 3006951.5000 - val_root_mean_squared_error: 1734.0564 - val_mean_absolute_error: 1335.2173\n",
            "Epoch 7/100\n",
            "214/214 [==============================] - 2s 10ms/step - loss: 2927771.0000 - root_mean_squared_error: 1711.0730 - mean_absolute_error: 1323.3276 - val_loss: 2999768.7500 - val_root_mean_squared_error: 1731.9840 - val_mean_absolute_error: 1338.4453\n",
            "Epoch 8/100\n",
            "214/214 [==============================] - 2s 9ms/step - loss: 2920871.2500 - root_mean_squared_error: 1709.0557 - mean_absolute_error: 1327.7848 - val_loss: 2994490.7500 - val_root_mean_squared_error: 1730.4597 - val_mean_absolute_error: 1341.6584\n",
            "Epoch 9/100\n",
            "214/214 [==============================] - 2s 10ms/step - loss: 2914767.7500 - root_mean_squared_error: 1707.2692 - mean_absolute_error: 1329.8845 - val_loss: 2991001.0000 - val_root_mean_squared_error: 1729.4510 - val_mean_absolute_error: 1344.5107\n",
            "Epoch 10/100\n",
            "214/214 [==============================] - 2s 10ms/step - loss: 2908980.5000 - root_mean_squared_error: 1705.5734 - mean_absolute_error: 1332.7227 - val_loss: 2988818.5000 - val_root_mean_squared_error: 1728.8199 - val_mean_absolute_error: 1346.9071\n",
            "Epoch 11/100\n",
            "214/214 [==============================] - 2s 11ms/step - loss: 2904354.2500 - root_mean_squared_error: 1704.2166 - mean_absolute_error: 1333.3335 - val_loss: 2987292.5000 - val_root_mean_squared_error: 1728.3785 - val_mean_absolute_error: 1349.1586\n",
            "Epoch 12/100\n",
            "214/214 [==============================] - 3s 12ms/step - loss: 2908193.5000 - root_mean_squared_error: 1705.3427 - mean_absolute_error: 1336.3992 - val_loss: 2986345.0000 - val_root_mean_squared_error: 1728.1044 - val_mean_absolute_error: 1351.1311\n",
            "Epoch 13/100\n",
            "214/214 [==============================] - 2s 10ms/step - loss: 2899047.7500 - root_mean_squared_error: 1702.6591 - mean_absolute_error: 1336.2400 - val_loss: 2985720.0000 - val_root_mean_squared_error: 1727.9236 - val_mean_absolute_error: 1353.0276\n",
            "Epoch 14/100\n",
            "214/214 [==============================] - 2s 9ms/step - loss: 2905280.7500 - root_mean_squared_error: 1704.4884 - mean_absolute_error: 1339.1244 - val_loss: 2985411.7500 - val_root_mean_squared_error: 1727.8344 - val_mean_absolute_error: 1354.5461\n",
            "Epoch 15/100\n",
            "214/214 [==============================] - 2s 9ms/step - loss: 2904528.0000 - root_mean_squared_error: 1704.2676 - mean_absolute_error: 1339.1012 - val_loss: 2985286.0000 - val_root_mean_squared_error: 1727.7980 - val_mean_absolute_error: 1355.7344\n",
            "Epoch 16/100\n",
            "214/214 [==============================] - 2s 9ms/step - loss: 2897829.2500 - root_mean_squared_error: 1702.3011 - mean_absolute_error: 1339.1923 - val_loss: 2985258.0000 - val_root_mean_squared_error: 1727.7899 - val_mean_absolute_error: 1356.7087\n",
            "Epoch 17/100\n",
            "214/214 [==============================] - 2s 11ms/step - loss: 2907266.5000 - root_mean_squared_error: 1705.0708 - mean_absolute_error: 1342.8132 - val_loss: 2985277.2500 - val_root_mean_squared_error: 1727.7954 - val_mean_absolute_error: 1357.4440\n",
            "Epoch 18/100\n",
            "214/214 [==============================] - 3s 13ms/step - loss: 2903412.5000 - root_mean_squared_error: 1703.9403 - mean_absolute_error: 1341.3706 - val_loss: 2985316.5000 - val_root_mean_squared_error: 1727.8068 - val_mean_absolute_error: 1358.0129\n",
            "Epoch 19/100\n",
            "214/214 [==============================] - 2s 10ms/step - loss: 2898986.7500 - root_mean_squared_error: 1702.6411 - mean_absolute_error: 1341.9008 - val_loss: 2985430.2500 - val_root_mean_squared_error: 1727.8397 - val_mean_absolute_error: 1358.9984\n",
            "Epoch 20/100\n",
            "214/214 [==============================] - 2s 10ms/step - loss: 2908368.0000 - root_mean_squared_error: 1705.3938 - mean_absolute_error: 1346.6290 - val_loss: 2985475.2500 - val_root_mean_squared_error: 1727.8528 - val_mean_absolute_error: 1359.3014\n",
            "Epoch 21/100\n",
            "214/214 [==============================] - 2s 10ms/step - loss: 2901091.7500 - root_mean_squared_error: 1703.2592 - mean_absolute_error: 1344.4324 - val_loss: 2985460.0000 - val_root_mean_squared_error: 1727.8484 - val_mean_absolute_error: 1359.2018\n",
            "Epoch 22/100\n",
            "214/214 [==============================] - 2s 10ms/step - loss: 2904314.7500 - root_mean_squared_error: 1704.2050 - mean_absolute_error: 1344.2454 - val_loss: 2985541.5000 - val_root_mean_squared_error: 1727.8719 - val_mean_absolute_error: 1359.6846\n",
            "Epoch 23/100\n",
            "214/214 [==============================] - 2s 11ms/step - loss: 2903607.0000 - root_mean_squared_error: 1703.9973 - mean_absolute_error: 1344.3229 - val_loss: 2985546.0000 - val_root_mean_squared_error: 1727.8732 - val_mean_absolute_error: 1359.7133\n",
            "Epoch 24/100\n",
            "214/214 [==============================] - 3s 12ms/step - loss: 2899474.7500 - root_mean_squared_error: 1702.7844 - mean_absolute_error: 1344.3986 - val_loss: 2985579.2500 - val_root_mean_squared_error: 1727.8828 - val_mean_absolute_error: 1359.8845\n",
            "Epoch 25/100\n",
            "214/214 [==============================] - 2s 9ms/step - loss: 2898224.5000 - root_mean_squared_error: 1702.4172 - mean_absolute_error: 1343.3696 - val_loss: 2985588.2500 - val_root_mean_squared_error: 1727.8855 - val_mean_absolute_error: 1359.9323\n",
            "Epoch 26/100\n",
            "214/214 [==============================] - 2s 10ms/step - loss: 2906511.7500 - root_mean_squared_error: 1704.8495 - mean_absolute_error: 1345.3480 - val_loss: 2985582.7500 - val_root_mean_squared_error: 1727.8839 - val_mean_absolute_error: 1359.9020\n"
          ]
        }
      ]
    },
    {
      "cell_type": "code",
      "source": [
        "root_mean_squared_error = history.history['root_mean_squared_error']\n",
        "mean_absolute_error = history.history['mean_absolute_error']\n",
        "val_loss = history.history['val_loss']\n",
        "val_root_mean_squared_error = history.history['val_root_mean_squared_error']\n",
        "val_mean_absolute_error = history.history['val_mean_absolute_error']"
      ],
      "metadata": {
        "id": "zWB1K6aKnwqa"
      },
      "execution_count": null,
      "outputs": []
    },
    {
      "cell_type": "code",
      "source": [
        "import matplotlib.pyplot as plt\n",
        "\n",
        "# history = model.fit(x_train, y_train, validation_data=(x_test, y_test), callbacks=[es_callback], epochs=100, batch_size=32)\n",
        "\n",
        "val_loss = history.history['val_loss']\n",
        "val_rmse = history.history['val_root_mean_squared_error']\n",
        "val_mae = history.history['val_mean_absolute_error']\n",
        "loss = history.history['loss']\n",
        "rmse = history.history['root_mean_squared_error']\n",
        "mae = history.history['mean_absolute_error']\n",
        "\n",
        "epochs = range(1, len(val_loss) + 1)\n",
        "\n",
        "plt.plot(epochs, rmse, 'bo', label='Training RMSE')\n",
        "plt.plot(epochs, mae, 'b', label='Training MAE')\n",
        "plt.plot(epochs, val_rmse, 'ro', label='Validation RMSE')\n",
        "plt.plot(epochs, val_mae, 'r', label='Validation MAE')\n",
        "plt.title('Training and validation metrics')\n",
        "plt.legend()\n",
        "\n",
        "plt.figure()\n",
        "\n",
        "plt.plot(epochs, loss, 'bo', label='Training loss')\n",
        "plt.plot(epochs, val_loss, 'b', label='Validation loss')\n",
        "plt.title('Training and validation loss')\n",
        "plt.legend()\n",
        "\n",
        "plt.show()\n"
      ],
      "metadata": {
        "colab": {
          "base_uri": "https://localhost:8080/",
          "height": 887
        },
        "id": "2P2H7OcAoj7j",
        "outputId": "d84cbb21-f987-4126-9a7a-f03b6d4ca514"
      },
      "execution_count": null,
      "outputs": [
        {
          "output_type": "display_data",
          "data": {
            "text/plain": [
              "<Figure size 640x480 with 1 Axes>"
            ],
            "image/png": "[encoded data removed]"
          },
          "metadata": {}
        },
        {
          "output_type": "display_data",
          "data": {
            "text/plain": [
              "<Figure size 640x480 with 1 Axes>"
            ],
            "image/png": "[encoded data removed]"
          },
          "metadata": {}
        }
      ]
    },
    {
      "cell_type": "code",
      "source": [
        "import matplotlib.pyplot as plt\n",
        "\n",
        "epochs = range(1, len(val_loss) + 1)\n",
        "\n",
        "plt.plot(epochs, root_mean_squared_error, 'bo', label='Training acc')\n",
        "plt.plot(epochs, mean_absolute_error, 'b', label='Validation acc')\n",
        "plt.title('Training and validation accuracy')\n",
        "plt.legend()\n",
        "\n",
        "plt.figure()\n",
        "\n",
        "plt.plot(epochs, val_root_mean_squared_error, 'bo', label='Training loss')\n",
        "plt.plot(epochs, val_mean_absolute_error, 'b', label='Validation loss')\n",
        "plt.title('Training and validation loss')\n",
        "plt.legend()\n",
        "\n",
        "plt.show()"
      ],
      "metadata": {
        "colab": {
          "base_uri": "https://localhost:8080/",
          "height": 887
        },
        "id": "KYNx4lSMoJkj",
        "outputId": "3504b094-15c9-452e-c322-da61aecdabd6"
      },
      "execution_count": null,
      "outputs": [
        {
          "output_type": "display_data",
          "data": {
            "text/plain": [
              "<Figure size 640x480 with 1 Axes>"
            ],
            "image/png": "[encoded data removed]"
          },
          "metadata": {}
        },
        {
          "output_type": "display_data",
          "data": {
            "text/plain": [
              "<Figure size 640x480 with 1 Axes>"
            ],
            "image/png": "[encoded data removed]"
          },
          "metadata": {}
        }
      ]
    },
    {
      "cell_type": "markdown",
      "source": [
        "RNN"
      ],
      "metadata": {
        "id": "o3QYBaR8of88"
      }
    },
    {
      "cell_type": "code",
      "source": [
        "import tensorflow as tf\n",
        "from keras.layers import Dropout\n",
        "from tensorflow.keras.layers import Dense\n",
        "from tensorflow.keras.layers import SimpleRNN\n",
        "from tensorflow.keras.metrics import RootMeanSquaredError, MeanAbsoluteError\n",
        "from tensorflow.keras.models import Sequential"
      ],
      "metadata": {
        "id": "MN3YfBc_oP-E"
      },
      "execution_count": null,
      "outputs": []
    },
    {
      "cell_type": "code",
      "source": [
        "def get_model(params, input_shape):\n",
        "\tmodel = Sequential()\n",
        "\tmodel.add(SimpleRNN(units=params[\"lstm_units\"], return_sequences=True, input_shape=(input_shape, 1)))\n",
        "\tmodel.add(Dropout(rate=params[\"dropout\"]))\n",
        "\n",
        "\tmodel.add(SimpleRNN(units=params[\"lstm_units\"], return_sequences=True))\n",
        "\tmodel.add(Dropout(rate=params[\"dropout\"]))\n",
        "\n",
        "\tmodel.add(SimpleRNN(units=params[\"lstm_units\"], return_sequences=True))\n",
        "\tmodel.add(Dropout(rate=params[\"dropout\"]))\n",
        "\n",
        "\tmodel.add(SimpleRNN(units=params[\"lstm_units\"], return_sequences=False))\n",
        "\tmodel.add(Dropout(rate=params[\"dropout\"]))\n",
        "\n",
        "\tmodel.add(Dense(1,activation = \"linear\"))\n",
        "\n",
        "\tmodel.compile(loss=params[\"loss\"],\n",
        "              \toptimizer=tf.keras.optimizers.Adam(\n",
        "    learning_rate=0.003),\n",
        "              \tmetrics=[RootMeanSquaredError(), MeanAbsoluteError()])\n",
        "\n",
        "\treturn model"
      ],
      "metadata": {
        "id": "BK0ghPR5ohbx"
      },
      "execution_count": null,
      "outputs": []
    },
    {
      "cell_type": "code",
      "source": [
        "params = {\n",
        "\t\"loss\": \"mean_squared_error\",\n",
        "\t\"optimizer\": \"adam\",\n",
        "\t\"dropout\": 0.2,\n",
        "\t\"lstm_units\": 138,\n",
        "\t\"epochs\": 100,\n",
        "\t\"batch_size\": 128,\n",
        "\t\"es_patience\" : 10\n",
        "}\n",
        "\n",
        "model = get_model(params=params, input_shape=x_train.shape[1])"
      ],
      "metadata": {
        "id": "MgR0qERsolIE"
      },
      "execution_count": null,
      "outputs": []
    },
    {
      "cell_type": "code",
      "source": [
        "es_callback = tf.keras.callbacks.EarlyStopping(monitor='val_root_mean_squared_error',\n",
        "                                           \tmode='min', \n",
        "patience=params[\"es_patience\"])"
      ],
      "metadata": {
        "id": "Lxo7E9nGon7B"
      },
      "execution_count": null,
      "outputs": []
    },
    {
      "cell_type": "code",
      "source": [
        "history = model.fit(\n",
        "\tx_train,\n",
        "\ty_train,\n",
        "\tvalidation_data=(x_test, y_test),\n",
        "\tepochs=params[\"epochs\"],\n",
        "\tbatch_size=params[\"batch_size\"],\n",
        "\tverbose=1, callbacks=[es_callback]\n",
        ")"
      ],
      "metadata": {
        "id": "xFds7wk1osHd"
      },
      "execution_count": null,
      "outputs": []
    },
    {
      "cell_type": "code",
      "source": [
        "root_mean_squared_error = history.history['root_mean_squared_error']\n",
        "mean_absolute_error = history.history['mean_absolute_error']\n",
        "val_loss = history.history['val_loss']\n",
        "val_root_mean_squared_error = history.history['val_root_mean_squared_error']\n",
        "val_mean_absolute_error = history.history['val_mean_absolute_error']"
      ],
      "metadata": {
        "id": "ZqY_FtS3oxEU"
      },
      "execution_count": null,
      "outputs": []
    },
    {
      "cell_type": "code",
      "source": [
        "import matplotlib.pyplot as plt\n",
        "\n",
        "epochs = range(1, len(val_loss) + 1)\n",
        "\n",
        "plt.plot(epochs, root_mean_squared_error, 'bo', label='Training acc')\n",
        "plt.plot(epochs, mean_absolute_error, 'b', label='Validation acc')\n",
        "plt.title('Training and validation accuracy')\n",
        "plt.legend()\n",
        "\n",
        "plt.figure()\n",
        "\n",
        "plt.plot(epochs, val_root_mean_squared_error, 'bo', label='Training loss')\n",
        "plt.plot(epochs, val_mean_absolute_error, 'b', label='Validation loss')\n",
        "plt.title('Training and validation loss')\n",
        "plt.legend()\n",
        "\n",
        "plt.show()"
      ],
      "metadata": {
        "id": "tmlXdTO-oz9w"
      },
      "execution_count": null,
      "outputs": []
    },
    {
      "cell_type": "markdown",
      "source": [
        "CNN"
      ],
      "metadata": {
        "id": "3RtJ401opqGD"
      }
    },
    {
      "cell_type": "code",
      "source": [
        "import tensorflow as tf\n",
        "from keras.layers import Dropout\n",
        "from tensorflow.keras.layers import Dense\n",
        "from tensorflow.keras.layers import Conv1D\n",
        "from tensorflow.keras.metrics import RootMeanSquaredError, MeanAbsoluteError\n",
        "from tensorflow.keras.models import Sequential"
      ],
      "metadata": {
        "id": "-VjGNUawp5oh"
      },
      "execution_count": null,
      "outputs": []
    },
    {
      "cell_type": "code",
      "source": [
        "def CNN_model(params):\n",
        "  \n",
        "  model = tf.keras.models.Sequential([\n",
        "    tf.keras.layers.Conv1D(filters=32, kernel_size=3,\n",
        "                        strides=1, padding=\"causal\",\n",
        "                        activation=\"relu\",\n",
        "                        input_shape=[None, 1]),\n",
        "    tf.keras.layers.Dropout(0.2),\n",
        "    tf.keras.layers.Conv1D(filters=32, kernel_size=32,\n",
        "                        strides=1, padding=\"causal\",\n",
        "                        activation=\"relu\"),\n",
        "    tf.keras.layers.LSTM(32, return_sequences=True),\n",
        "    tf.keras.layers.LSTM(32, return_sequences=True),\n",
        "    tf.keras.layers.Dense(1,activation = \"linear\")])\n",
        "    #tf.keras.layers.Lambda(lambda x: x * 200)\n",
        "\n",
        "  model.compile(loss=params[\"loss\"],\n",
        "              optimizer=tf.keras.optimizers.Adam(\n",
        "    learning_rate=0.003),\n",
        "              metrics=[RootMeanSquaredError(), MeanAbsoluteError()])\n",
        "  \n",
        "  return model\n",
        "\n",
        "\n",
        "params = {\n",
        "\t\"loss\": \"mean_squared_error\",\n",
        "\t\"optimizer\": \"adam\",\n",
        "\t\"dropout\": 0.2,\n",
        "\t\"epochs\": 100,\n",
        "\t\"batch_size\": 128,\n",
        "\t\"es_patience\" : 10\n",
        "}\n",
        "\n",
        "model = CNN_model(params)\n",
        "\n",
        "es_callback = tf.keras.callbacks.EarlyStopping(monitor='val_root_mean_squared_error',\n",
        "                                           \tmode='min', \n",
        "patience=params[\"es_patience\"])\n",
        "\n",
        "\n",
        "history_cnn = model.fit(\n",
        "\tx_train,\n",
        "\ty_train,\n",
        "\tvalidation_data=(x_test, y_test),\n",
        "\tepochs=params[\"epochs\"],\n",
        "\tbatch_size=params[\"batch_size\"],\n",
        "\tverbose=1, callbacks=[es_callback]\n",
        ")"
      ],
      "metadata": {
        "id": "7dvCXAmso3Hi"
      },
      "execution_count": null,
      "outputs": []
    },
    {
      "cell_type": "code",
      "source": [
        "root_mean_squared_error = history_cnn.history['root_mean_squared_error']\n",
        "mean_absolute_error = history_cnn.history['mean_absolute_error']\n",
        "val_loss = history_cnn.history['val_loss']\n",
        "val_root_mean_squared_error = history_cnn.history['val_root_mean_squared_error']\n",
        "val_mean_absolute_error = history_cnn.history['val_mean_absolute_error']"
      ],
      "metadata": {
        "id": "ZS07al8Mp-Ha"
      },
      "execution_count": null,
      "outputs": []
    },
    {
      "cell_type": "code",
      "source": [
        "import matplotlib.pyplot as plt\n",
        "\n",
        "epochs = range(1, len(val_loss) + 1)\n",
        "\n",
        "plt.plot(epochs, root_mean_squared_error, 'bo', label='Training acc')\n",
        "plt.plot(epochs, mean_absolute_error, 'b', label='Validation acc')\n",
        "plt.title('Training and validation accuracy')\n",
        "plt.legend()\n",
        "\n",
        "plt.figure()\n",
        "\n",
        "plt.plot(epochs, val_root_mean_squared_error, 'bo', label='Training loss')\n",
        "plt.plot(epochs, val_mean_absolute_error, 'b', label='Validation loss')\n",
        "plt.title('Training and validation loss')\n",
        "plt.legend()\n",
        "\n",
        "plt.show()"
      ],
      "metadata": {
        "id": "MKdb1sUfq4dO"
      },
      "execution_count": null,
      "outputs": []
    },
    {
      "cell_type": "code",
      "source": [
        "loss_per_epoch = model.history.history['loss']\n",
        "plt.plot(range(len(loss_per_epoch)),loss_per_epoch)"
      ],
      "metadata": {
        "id": "2rh4oDIdq8fs"
      },
      "execution_count": null,
      "outputs": []
    },
    {
      "cell_type": "code",
      "source": [
        "import matplotlib.pyplot as plt\n",
        "\n",
        "epochs = range(1, len(val_root_mean_squared_error) + 1)\n",
        "loss = val_root_mean_squared_error\n",
        "\n",
        "plt.plot(epochs, loss, 'bo', label='Validation RMSE')\n",
        "plt.title('Loss per Epoch')\n",
        "plt.xlabel('Epochs')\n",
        "plt.ylabel('Validation RMSE')\n",
        "plt.legend()\n",
        "\n",
        "plt.show()\n"
      ],
      "metadata": {
        "id": "rDrbkRQAp48N"
      },
      "execution_count": null,
      "outputs": []
    }
  ]
}